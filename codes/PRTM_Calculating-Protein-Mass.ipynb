{
 "cells": [
  {
   "cell_type": "markdown",
   "id": "398d54c2",
   "metadata": {},
   "source": [
    "## Calculating Protein Mass\n",
    "### This is the sixteenth problem in rosalind bioinformatics stronghold list"
   ]
  },
  {
   "cell_type": "markdown",
   "id": "b64b9f51",
   "metadata": {},
   "source": [
    "### What is protein mass unit? \n",
    "The molecular masses of proteins are often expressed with the units kilodalton (kDa) and megadalton (MDa). The average molecular weight of an amino acid is 110 Da. Dalton equals 1.66 * 10^(-24) gram."
   ]
  },
  {
   "cell_type": "markdown",
   "id": "8f8f3294",
   "metadata": {},
   "source": [
    "**_Given:_** A protein string P  of length at most 1000 aa.  \n",
    "**_Return:_** The total weight of P."
   ]
  },
  {
   "cell_type": "code",
   "execution_count": 1,
   "id": "ff465124",
   "metadata": {},
   "outputs": [
    {
     "name": "stdout",
     "output_type": "stream",
     "text": [
      "The given protein sequence is:\n",
      "CGLQCYNNDSMDKYAKVGMHPMPPTGVSYGRSPEYNTNGYSDSLRHAPFYCEMCAIGWYRNADDWSFSWEPNVQHGWLCLRYNMFPLMWGEVRDSDLDMQSCSYMQECFAWYDQETWQIFHWHWIPPAEDVYYQQTAAMGPNFFTRGIKVMWYVIMTGFIIWGMRLHHNGIMQSMCGQATQVIDQKMAAHHYFHHAEFDMQVFLHGEAMFLWVNWPSHCHNFSNSMSNVANVIWIMDCLVCDVRQCSVAHYVNGAFFQYDKDLSEGCMPGIFHQRNPTWMIGIGTDQQRWCDYQSWLAHAPSHPLTFSTTQTMCFRGCMVFTRVHHIDFFENTAQMADSMSFEQDKKVMDQICGGRQRCDQAWRQILDYMNDCQRPYRQRKKQYKITERSHWILGQNIMSYNIFVEGFHYHRQQVPDMFYHMCRAMMTSIGRFMWFLCVIQMSSMKMEYFRKIVGKQTVAVVTVVPDSSHCFKASTYGVILWKINVYMVPDYYNPTGYVHDSQWEEMEMGCRRIQHRYHCRWQEFHHYTQFFEEPLEKTYKYLRRTLMDMGHSWHVRSRLCVAPNYITRYNVEWLNKWHPNTHLGCTTCHTTFVHWSTKDNDFWGEFLWWSVWNWPEVHLPGDHDREQFASITETRCLHYYRLYNGTFGTQGKTTAAPKFMIKYPEDTDAVGQTHAAWIMGVNPWDWDWNHSAMRDVSRMASIYAGLKLIGTTRSFRFSGGCHPAASTDKQCMFHWYRDDLYSWPIGHWSYHECRFWNRHVCSPFYVDHQMSKVCVKAHWPDWDNMMYLGIDGHGCSWEHTVCFEKHWVQMVKEVYPQWDMTVHKCNMRMVYTGNLRNIPPGMEGMEHVDFNKFYRIMMACWRRIVREIFNNESTRFFKKNWNWVHCCGYCLAPWKTMPQQVKMKAGGMLAYFCLP\n"
     ]
    }
   ],
   "source": [
    "# open the .txt file and extract data from it.\n",
    "with open(\"/Users/HASAN/Desktop/Rosalind/rosalind_prtm_1_dataset.txt\") as Data_file:\n",
    "    Data = Data_file.readline()\n",
    "Protein_seq = Data.strip()\n",
    "print(\"The given protein sequence is:\", Protein_seq, sep=\"\\n\")"
   ]
  },
  {
   "cell_type": "code",
   "execution_count": 2,
   "id": "9ad5ecb2",
   "metadata": {},
   "outputs": [
    {
     "name": "stdout",
     "output_type": "stream",
     "text": [
      "The mass for each amino acid in dalton(Da):\n",
      "{'A': 71.03711, 'C': 103.00919, 'D': 115.02694, 'E': 129.04259, 'F': 147.06841, 'G': 57.02146, 'H': 137.05891, 'I': 113.08406, 'K': 128.09496, 'L': 113.08406, 'M': 131.04049, 'N': 114.04293, 'P': 97.05276, 'Q': 128.05858, 'R': 156.10111, 'S': 87.03203, 'T': 101.04768, 'V': 99.06841, 'W': 186.07931, 'Y': 163.06333}\n"
     ]
    }
   ],
   "source": [
    "# open the .txt file and extract data from it.\n",
    "# this step is important to build a dictionary contains the mass for each amino acid.\n",
    "with open(\"/Users/HASAN/Desktop/Rosalind/amino_acids_masses.txt\") as Data_file:\n",
    "    aa_masses = Data_file.readlines()\n",
    "Mass_dict = dict()\n",
    "for aa in range(len(aa_masses)):\n",
    "    Mass_dict[aa_masses[aa][0]] = float(aa_masses[aa][4:])\n",
    "print(\"The mass for each amino acid in dalton(Da):\", Mass_dict, sep='\\n')"
   ]
  },
  {
   "cell_type": "code",
   "execution_count": 3,
   "id": "383b7c1b",
   "metadata": {},
   "outputs": [
    {
     "name": "stdout",
     "output_type": "stream",
     "text": [
      "The given protein sequence mass is: 109471.5034 Da = 109.4715 kDa\n"
     ]
    }
   ],
   "source": [
    "total_protein_mass = 0\n",
    "for aa in Protein_seq:\n",
    "    total_protein_mass += Mass_dict[aa.upper()]\n",
    "print(\"The given protein sequence mass is: {} Da = {} kDa\".format(round(total_protein_mass, 4),\n",
    "                                                                  round(total_protein_mass / 1000, 4)))"
   ]
  },
  {
   "cell_type": "markdown",
   "id": "c49565dd",
   "metadata": {},
   "source": [
    "_**Coded by:**_ **Hasan Daaboul**  \n",
    "_**Email:**_ hasandaaboul4@gmail.com"
   ]
  }
 ],
 "metadata": {
  "kernelspec": {
   "display_name": "Python 3 (ipykernel)",
   "language": "python",
   "name": "python3"
  },
  "language_info": {
   "codemirror_mode": {
    "name": "ipython",
    "version": 3
   },
   "file_extension": ".py",
   "mimetype": "text/x-python",
   "name": "python",
   "nbconvert_exporter": "python",
   "pygments_lexer": "ipython3",
   "version": "3.11.5"
  }
 },
 "nbformat": 4,
 "nbformat_minor": 5
}
