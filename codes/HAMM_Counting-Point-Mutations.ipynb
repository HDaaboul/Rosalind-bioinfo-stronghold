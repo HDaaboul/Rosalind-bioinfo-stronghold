{
 "cells": [
  {
   "cell_type": "markdown",
   "id": "c8040029-704c-4b91-9141-46e7455f7fe9",
   "metadata": {},
   "source": [
    "## Counting Point Mutations\n",
    "### This is the sixth problem in rosalind bioinformatics stronghold list"
   ]
  },
  {
   "cell_type": "markdown",
   "id": "5685b7be-83f1-4bae-9c7e-125802ecf3e3",
   "metadata": {},
   "source": [
    "**_Given_:** Two DNA strings s  and t  of equal length (not exceeding 1 kbp).  \n",
    "**_Return:_** The Hamming distance H_d(s,t)."
   ]
  },
  {
   "cell_type": "code",
   "execution_count": 1,
   "id": "bd463f72-79ff-4a15-9be6-993a5271e601",
   "metadata": {},
   "outputs": [
    {
     "name": "stdout",
     "output_type": "stream",
     "text": [
      "First sequence:\n",
      "TTGGTCATTCGCGGAGGCGGCAGTGCGCAAGACTCCTGGGTCGAAGTTCTTTCGACGAAAAAAGTAAAGGTAGGTCCTATAACATTGCTCGGAGCCAGTGGAGACAACCTTGCTGATCTGCAAAATTCAAACTTCCACTAGGGTCACAGCAGCTAGCGGTAGTTTGTTCGTATCCGTATAGTCTACTTGTCATCCGTTGAATTCTCCACAGTCCGGCGGCGTTAAAAGCTGGGCGCGTGTGGGATATTTCATATCGCGATTTCAGCGTTCGCAAAACTAGCATTTATATAAAGTTTAAACTTGTACTTAAATATAATAGTAGGGGGCAGCGAAAATGCTCGCGCGATTCCCTATCGGTGGAAAGCGGAGAACTGGGTCGTACGGTAAATGGGGGAGTGAACACTGGCTAGATCATCTCATCGTCCAGACAGTACGCTACGTCAACTTCAAATGTGCTTGTACCCTCGATTTAGTACTAAAAGCGGTTGGTAGGTTAGCGAGGGTGAAAGCGAGGCGCCTCCGTGAATGAATCGGCGTGCACTTGGCCATCCGGTTGCGGTGCTAGTGGGTGGGGCTCGGCGCATCGGTCTACTATGATTTGACTCAAAGGAATGTGATGACTGGACCAATTGTGGTCTTATGCCACATGCGCGAACGAAAGAGGCTCCCATTAATTATGCGCGTTACGTATGCCTTGCCTCGTCGATGCCTTGCCTCACCGGTGGTGACGGGAAATTCGAGACCAAGCGTGCTAGAAATAACGTAACCGGTCGCTTAGCATACAATCTTCTGAGGTAATAGAGCCCCATTCCCAAACGGCAAATGAATTTATGTAGGAAGCGGGTTCATACATGCGAGGCAAGCTGCGCTCAAGCTGTCGTGCTCTCGCGGCTAAGAAACGTTAGGAGGCAGATTAATACGGTTGACTTCTTCC\n",
      "Second sequence:\n",
      "TGGACCCCTGGCGTTATCGCCAGGGAAGAAAAGGGCTGGCTCGGGGTCCGGGTGACAAAACCCCCGGATAAATGGGATCTTCAATTTGTCTTAATCTTCAACAACAGTCTTCTTTTACGTTGACGTTACAATGTCTCTCCGGATTACATGAGTGATCATTAAGTTGATCGTGCTGCAGGCAAATCGGTCGAGGCCACCAAGCGCGCAACCTTCCTAATCGGTTTAAAGCGGTACGCAGGGCGGGTCTAGAGGACCATAACTGGATCTGAAGGAAAAGGCAATCTTGTAACGGTCCCTATCCCGTGCTTAAAAATAGCATTGGGGAGGAGGGAAATGCCAGACGACACTCGAATGCCGCGGTGTTCAGCAATCTGTAAGCTACGCCACTTGGGCAATGCCAACCCGTTTAATGATATACATCCTTCAGAGGCTGAAATAATCCTACAACAGTAGTGGTCTTCCCCTTGGTATATGATTAGAAGCCTGTGGGGACGCATCTAAGGGTTATGTGCGGCATAAGCTATTATAGATACGCATCGACTTAGACCTTCTCCCGGAGAATTAGGAAACTTCAGCGGGCATATCGTTTAAGTATCATTTGGCCGACAAGAGGTCTACGGGTGGACAGAGCATCATAACAGGTTGCGAGGTTGGAAGACGGTGTTACCAATTGTCTATAGCTGTTTTGTAGGCGTCGCCTAGTTGATGAAAAGCCCGACCTCCAGGGACGGGTATTTCGGTACCAAGCACGCAACAGAGAACGCATCCGGTAGGTTAGCTTGTGATGCGCCCGCATAACAAGGCTCGATTCACAACCGTAGACGCTTTACAGTTGCTAACCGTGTGCCAGCAAGCGGGGCCTACTGCGCTCATCCTTTGAGGTGAGGGATGCTGTGGAAGGTGACGGTGTCGGTTTCCAGGGTTGCTTTAATAC\n"
     ]
    }
   ],
   "source": [
    "# open the .txt file and extract data from it.\n",
    "with open(\"/Users/HASAN/Desktop/Rosalind/rosalind_hamm_1_dataset.txt\") as Data_file:\n",
    "    Data = Data_file.readlines()\n",
    "first_seq = Data[0].strip()\n",
    "second_seq = Data[1].strip()\n",
    "print(\"First sequence:\",first_seq, \"Second sequence:\", second_seq, sep=\"\\n\")"
   ]
  },
  {
   "cell_type": "code",
   "execution_count": 2,
   "id": "c419fa60-e3fd-45cc-8309-75801eca3d32",
   "metadata": {},
   "outputs": [
    {
     "name": "stdout",
     "output_type": "stream",
     "text": [
      "The hamming distance between the two DNA sequences is: 492\n"
     ]
    }
   ],
   "source": [
    "# calculate the hamming distance between these two DNA sequences\n",
    "def H_d(seq1, seq2):\n",
    "    hamm_dist = 0\n",
    "    for nuc_order in range(len(seq1)):\n",
    "        if seq1[nuc_order] != seq2[nuc_order]:\n",
    "            hamm_dist += 1\n",
    "    return hamm_dist\n",
    "print(\"The hamming distance between the two DNA sequences is:\", H_d(first_seq, second_seq))"
   ]
  },
  {
   "cell_type": "markdown",
   "id": "775a6152-92c1-4bb3-aea2-2965a7c8b024",
   "metadata": {},
   "source": [
    "_**Coded by:**_ **Hasan Daaboul**  \n",
    "_**Email:**_ hasandaaboul4@gmail.com"
   ]
  }
 ],
 "metadata": {
  "kernelspec": {
   "display_name": "Python 3 (ipykernel)",
   "language": "python",
   "name": "python3"
  },
  "language_info": {
   "codemirror_mode": {
    "name": "ipython",
    "version": 3
   },
   "file_extension": ".py",
   "mimetype": "text/x-python",
   "name": "python",
   "nbconvert_exporter": "python",
   "pygments_lexer": "ipython3",
   "version": "3.11.5"
  }
 },
 "nbformat": 4,
 "nbformat_minor": 5
}
