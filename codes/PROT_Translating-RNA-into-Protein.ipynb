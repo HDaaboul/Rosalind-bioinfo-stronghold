{
 "cells": [
  {
   "cell_type": "markdown",
   "id": "9c3076d7-e002-4ab5-b5b4-c5377b42e005",
   "metadata": {},
   "source": [
    "## Translating RNA into Protein\n",
    "### This is the eighth problem in rosalind bioinformatics stronghold list"
   ]
  },
  {
   "cell_type": "markdown",
   "id": "d40f28bc-23f8-4132-901b-695d6c598d72",
   "metadata": {},
   "source": [
    "**_Given:_** An RNA string s  corresponding to a strand of mRNA (of length at most 10 kbp).  \n",
    "**_Return:_** The protein string encoded by s."
   ]
  },
  {
   "cell_type": "code",
   "execution_count": 1,
   "id": "ea86887f-67ba-40eb-8815-a5c73d034395",
   "metadata": {},
   "outputs": [
    {
     "name": "stdout",
     "output_type": "stream",
     "text": [
      "The first 500 bP of the DNA sequence are:\n",
      "AUGUAUUUUUGGAACGAAGCCUAUUCAGUUUAUAAUCUUGUCUUCAUAUUUCUACAGCCAAAUCGGCUGUCAAAUACCGAAAAAUCUUUCUCACUAGGACAACUUGCUCCGGGGCGCUUGGUCUAUUGCGUCAAUCCGUACAUUGGUGCUGCCUCACACCAGGUGUCGUAUAGGACCUGCGUGGAGAGCCUCCUGCCUCGUAUCGCUAUCGGGAGUGCUGCUCGGAAGACUAAGGUGCAAAAUUACUAUAGCAUCCUGCCUAUCAAUAGAUUCACACCAAGACGUCCAAUUAACGCGUCGCGUUCGAGAGCCCCUCCUAGCAGAUGUCAAUUAACGCUCAACUUGUGUCUCGCCGGCCGUCGCAUAUGGACGAGGCGAACAUUAUGUGAGCGUCGUUUCAUGACGCCGCUCACAGCUAGUCUGGGGCCAGCUGGACAAAUACUAUCAGUCACACCAAUUCCACAGUUAUACCACGUUUCUGUUGUCAUCUACCCCAAACA\n"
     ]
    }
   ],
   "source": [
    "# open the .txt file and extract data from it.\n",
    "with open(\"/Users/HASAN/Desktop/Rosalind/rosalind_prot_3_dataset.txt\") as Data_file:\n",
    "    Data = Data_file.readline().strip()\n",
    "# The sequence is long, so I will print only the first 500 bP of it\n",
    "print(\"The first 500 bP of the DNA sequence are:\\n\", Data[0: 500], sep=\"\")"
   ]
  },
  {
   "cell_type": "code",
   "execution_count": 2,
   "id": "8498ad5e-84c6-4db7-8164-db5a654e882a",
   "metadata": {},
   "outputs": [],
   "source": [
    "# now I will define the dictionary which contains the RNA genetic code and their correspondent amino acids\n",
    "genetic_code = {\"UUU\":\"F\", \"UUC\":\"F\", \"UUA\":\"L\", \"UUG\":\"L\",\n",
    "                \"UCU\":\"S\", \"UCC\":\"S\", \"UCA\":\"S\", \"UCG\":\"S\",\n",
    "                \"UAU\":\"Y\", \"UAC\":\"Y\",  \"UAA\":\"\", \"UAG\": \"\",\n",
    "                \"UGU\":\"C\", \"UGC\":\"C\",  \"UGA\":\"\", \"UGG\":\"W\",\n",
    "                \"CUU\":\"L\", \"CUC\":\"L\", \"CUA\":\"L\", \"CUG\":\"L\",\n",
    "                \"CCU\":\"P\", \"CCC\":\"P\", \"CCA\":\"P\", \"CCG\":\"P\",\n",
    "                \"CAU\":\"H\", \"CAC\":\"H\", \"CAA\":\"Q\", \"CAG\":\"Q\",\n",
    "                \"CGU\":\"R\", \"CGC\":\"R\", \"CGA\":\"R\", \"CGG\":\"R\",\n",
    "                \"AUU\":\"I\", \"AUC\":\"I\", \"AUA\":\"I\", \"AUG\":\"M\",\n",
    "                \"ACU\":\"T\", \"ACC\":\"T\", \"ACA\":\"T\", \"ACG\":\"T\",\n",
    "                \"AAU\":\"N\", \"AAC\":\"N\", \"AAA\":\"K\", \"AAG\":\"K\",\n",
    "                \"AGU\":\"S\", \"AGC\":\"S\", \"AGA\":\"R\", \"AGG\":\"R\",\n",
    "                \"GUU\":\"V\", \"GUC\":\"V\", \"GUA\":\"V\", \"GUG\":\"V\",\n",
    "                \"GCU\":\"A\", \"GCC\":\"A\", \"GCA\":\"A\", \"GCG\":\"A\",\n",
    "                \"GAU\":\"D\", \"GAC\":\"D\", \"GAA\":\"E\", \"GAG\":\"E\",\n",
    "                \"GGU\":\"G\", \"GGC\":\"G\", \"GGA\":\"G\", \"GGG\":\"G\"}"
   ]
  },
  {
   "cell_type": "code",
   "execution_count": 3,
   "id": "cf61b93a-69b2-42c0-b086-77c06bf9de87",
   "metadata": {},
   "outputs": [
    {
     "name": "stdout",
     "output_type": "stream",
     "text": [
      "The protein sequence for this mRNA sequence is:\n",
      "MYFWNEAYSVYNLVFIFLQPNRLSNTEKSFSLGQLAPGRLVYCVNPYIGAASHQVSYRTCVESLLPRIAIGSAARKTKVQNYYSILPINRFTPRRPINASRSRAPPSRCQLTLNLCLAGRRIWTRRTLCERRFMTPLTASLGPAGQILSVTPIPQLYHVSVVIYPKQHPTDNLHEEYLPTRRARQFAYSSCEALLLRVNTFLCSSTPKRLLHAPARETRVGMRHGRTDEEVIHVQNRRQLTRCGCINVPEFQLRTPGPSITSLTLLGGPPLKTFTPHHDDRYGFRGTTTDGVHEYYGSPRACQIGSMYMYDRAVYICRYSIAIRNDCTPVWWPPGEGSECQGHRCGTGMCAFRSYLIVGLDKREWLLAVPVDVTVVWYNRRREHSRVASIRPLWTLVSSARISESTIFRAYRRLKHGNLKDVQWRACIYILSTLTHPPDLRVRFRSPSVNCESPATYIKFGRIRRGRVAPCLFILLHSPREADPIYLLYGPVHLLRIPLNRWISGGLGRVTGSCRAARNVMPVSLPTQLDEFSLVTTLWVNSLISVRPGYLTTHLRIIQASRMYINLDPTVEYVCVRVVAQHPGAHGWSCLRIHAHTRGFHPEHDGGHRQRLPHDWAVCSFHVVYPKKLLVYLPKMSVWMAEAPIPITTHRGAILAQCTQEELNCSVKWLAPREFTRDPVFFRRRIHGTILLAFLLLIVFISASVPSECMPQSLRSNLVWTGIQQRCISFGMVTRVSPVVAGFGYNIVRRLYEIHKNSPYETWVPGKMEPILEPFRSCTARYRFGRRLKRHHTYAHIRREYILPLLKPARRMYGESTGGPETQLVRIADDQCYMKWGEAYQHLSKAFTGTQCASTVGAASVGLLEENVYYWPPTSNHSEITHELKPTVVIYVALMYFPGVKVGGEGKRTASLGGPCGHRYGSPRGLEKARRHQLRLSLNPTFYSSIMRVFRWRRCRRSFVLRMKLWKPTMSGQSNQYTRRPPPEMAQGWANCAPLARRLWDCILSILATGSTPMITIQRGSNRVEIGYRQHGMMVEGRRDIYTWVELFLCSEQVKQVPRRRIPDWLQTFTEATRGNYTALNRSPMVDTSVTLATSSRQNPYTRNPSALATTAVMMKQVQLVTSDISFPGNQRASSLSVAVFRTRAVYHSAYHTALHIILLQQTFIHICPESWTRADSLTWVLGMCDTICQVYSIRVHCRATKVPGTLEARVHPGECDCRFGSRAPSTIDDFVFCCPPYAMRKLRINTGRDVNYQEHPTKTVVLRGYNGHINTVRPSCSFSVVRTRCWKMSTWVEHMLLYATRRTRLNRGVRPKLDRIGPRDDLAHPKNLRRVKELILRGINSSFCGLRSACIRAVHTFVLGLILGERNGAERRRRTRMTFVTRSVWVYPWTPRFGEGFGIAWDSFKPVMFTSFVLTRFLSSPRHAHDCVVMLACVKRPKEPRIEVSSCYPPSFYRARLYTGGQWAYLCKPRYFLHGPTTITSRPPEISGPAAYVSQLSRKRGASWSRRSYGLVSPTRQSCVHAFSKRHGRTRNSPLFCTSRRDPRSCLSWLLMWSPCVTYEEPHGPNTLGECRACVSMDSELTACAVLVREITLVESVDLALLIDYRIPGTSCTNEGRWSKYGLVYVGEIMWMLQVAQGQYIPFQRPLGRCTADADPASVFTPLVTCTSSTSLMRVLASSETHRPLRADCWILRSQGRSDLLLVDSLVTPYVVLHYPENPKASTYFPSCMLDTRHSSCDYGQTLSLLAIVRRTWARYVSKNEVLNKIGMLETTCAPWLKIYARSTLKRISSKSLVRLDDELRILKPVHNHWVVEEGKWVGSGYLNDHGVCVEDTLPAGRRVSCESPRVIDDVPHNYDSNHVPNIHISDRLSLALVPGQYRDRKTTASSAIECLFLSNRSLRVYKSAPETGAVPLRLGNLEAYRWTYRIGHPGSAFPPCLWADAWVFWLRADTAHWRVAEPVTGQVILAMSRWSARHLIYRLPWNFPQRTHVKAITAPTRNMRVLRGISARTGRPRSLLLSVSRLVKDKGCFIHVARLSRPYWNLVAATLSGPFVELEVSGMLRYVSKGRTRSCCKVVNKDAGYLCQATGQMPLRAKTLLTAFFWLVSSTSTEAYWDHFVQILRGLSRRVVYNGGNLHHRVIITPTANSQGLLKHRSKSRLPGPQGGFSWPNYGVIIPRRLSLTSQPSRRPRDLAVDKPTLQTVAFFRHTFTRGCRAQTPPCYPRDFDYRDACGRKGRYYLRRHSWYIHGGERCHDVKSPAAYGWGHSPVPHSSSGDRQPALGSPRTTFIYTCRIAVRSSEVGGAANAGRTRRYARIYTEPHAEETVPGRLMYRMRGKTRKEMESHSGTVRHHTNNVPIPYSTLYNSKAKQYSHEGTIKTGTIAEITGCQCRLVGTRSRNGAAARYTQRADSPSDDSSFRGPTSAGSGSYRKTALPSWSVSYLRGLAKLLQRVSNRRSLCGSHPVITRPPSRPKKVRPDKLFKATNTGNMDPSPMPLTYFARFSWLLTLMGEKPRPQTSVSCGSRQVLRRLQSFAPSVPIRNDVNPWSEFRIFKGSISPRTSGKIFEVYTTARKFIQYLGSPGRPCMRDVSVTLREVSGYAPNRSGMSRSEDLDASHFVARADVSAPPSILNFAETPLHGILPVVLHNLRQGRTWRISYTAHDAPHLTAPKPAQSPVFVSHTGCINSASCNKRRGNIVITVRIPNASRVYWIRASVIVGPVGPLRHNKACTLAGYGDIYISRTHTRWPKDNFVKSHLWSAFASCLEGSHSASTAKEVELRCCATEWVVKSHGAHYTSAFLRSKLCKASIPPTGGSGPVISSHENPYWCTLYGSRVIPRIVAWTLFVSQRYEVGASFVSGDSTRYDKCSKLRLLPGEPAVSRICVSSVTTA\n"
     ]
    }
   ],
   "source": [
    "# now the next code section will convert the mRNA sequence to its corresponding protein\n",
    "protein_seq = \"\"\n",
    "start = Data.find('AUG')  # the start codon in mRNA is AUG\n",
    "if start != -1:\n",
    "    while start+2 < len(Data):\n",
    "        codon = Data[start:start+3]\n",
    "        if codon == \"UAG\" or codon == \"UAA\" or codon == \"UGA\": # the stop codons in mRNA are UAG, UAA, and UGA\n",
    "            break\n",
    "        protein_seq += genetic_code[codon]\n",
    "        start += 3\n",
    "# write out the result protein sequence\n",
    "print(\"The protein sequence for this mRNA sequence is:\\n\", protein_seq, sep=\"\")"
   ]
  },
  {
   "cell_type": "markdown",
   "id": "8d6af270-1dd7-4066-be90-d10dcad6a4f7",
   "metadata": {},
   "source": [
    "_**Coded by:**_ **Hasan Daaboul**  \n",
    "_**Email:**_ hasandaaboul4@gmail.com"
   ]
  }
 ],
 "metadata": {
  "kernelspec": {
   "display_name": "Python 3 (ipykernel)",
   "language": "python",
   "name": "python3"
  },
  "language_info": {
   "codemirror_mode": {
    "name": "ipython",
    "version": 3
   },
   "file_extension": ".py",
   "mimetype": "text/x-python",
   "name": "python",
   "nbconvert_exporter": "python",
   "pygments_lexer": "ipython3",
   "version": "3.11.5"
  }
 },
 "nbformat": 4,
 "nbformat_minor": 5
}
