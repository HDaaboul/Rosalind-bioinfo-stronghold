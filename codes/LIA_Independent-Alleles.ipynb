{
 "cells": [
  {
   "cell_type": "markdown",
   "id": "fe063f9b",
   "metadata": {},
   "source": [
    "## Independent Alleles\n",
    "### This is the nineteenth problem in rosalind bioinformatics stronghold list"
   ]
  },
  {
   "cell_type": "markdown",
   "id": "d1da6e39",
   "metadata": {},
   "source": [
    "**_Given:_** Two positive integers k ≤ 7 and N ≤ 2^k. In this problem, we begin with Tom, who in the 0th generation has genotype AaBb. Tom has two children in the 1st generation, each of whom has two children, and so on. Each organism always mates with an organism having genotype AaBb.  \n",
    "**_Return:_** The probability that at least N  AaBb organisms will belong to the k-th generation of Tom's family tree (don't count the AaBb mates at each level). Assume that **Mendel's second law** holds for the factors."
   ]
  },
  {
   "cell_type": "code",
   "execution_count": 1,
   "id": "a96a85fd",
   "metadata": {},
   "outputs": [],
   "source": [
    "# import comb (combinations) function from math library\n",
    "from math import comb"
   ]
  },
  {
   "cell_type": "code",
   "execution_count": 2,
   "id": "12f46ac3",
   "metadata": {},
   "outputs": [],
   "source": [
    "# open the .txt file and extract data from it.\n",
    "with open(\"/Users/HASAN/Desktop/Rosalind/rosalind_lia_1_dataset.txt\") as Data_file:\n",
    "    Data = Data_file.readline().strip()\n",
    "k, n = map(int, Data.split(\" \"))"
   ]
  },
  {
   "cell_type": "markdown",
   "id": "693a37c7",
   "metadata": {},
   "source": [
    "**In this problem, the probability of success (having AaBb organism in the next generation is 0.25) and the probability of failure is 1 - 0.25 = 0.75, and these events will happen from the first generation to the last one. In problems like this one, the probability distribution that describes its behavior is binomial distribution**  \n",
    "\n",
    "### So, what is binomial distribution?\n",
    "In probability theory and statistics, the binomial distribution with parameters n and p is the discrete probability distribution of the number of successes in a sequence of n independent experiments, each asking a yes–no question, and each with its own Boolean-valued outcome: success (with probability p) or failure (with probability q = 1-p).  \n",
    "![binomial probability](https://www.gstatic.com/education/formulas2/553212783/en/binomial_distribution_formula.svg)  \n",
    "### The cumulative distribution function can be expressed as:**  \n",
    "![binomial distribution](https://upload.wikimedia.org/wikipedia/commons/thumb/5/55/Binomial_distribution_cdf.svg/300px-Binomial_distribution_cdf.svg.png)  \n",
    "![CDF binomial distribution](https://wikimedia.org/api/rest_v1/media/math/render/svg/8689ba703ee51a5f66f605ea1f293fc74fa380b9)"
   ]
  },
  {
   "cell_type": "code",
   "execution_count": 3,
   "id": "283b1161",
   "metadata": {},
   "outputs": [
    {
     "name": "stdout",
     "output_type": "stream",
     "text": [
      "The probability that at least N AaBb organisms will belong to the k-th generation of Tom's family tree is 0.1784082884416356\n"
     ]
    }
   ],
   "source": [
    "# this CDF function below will calculate The probability that at least N AaBb organisms will belong\n",
    "# to the k-th generation of Tom's family tree\n",
    "def CDF_binomial_dis(k,n):\n",
    "    prob = []\n",
    "    num = 2 ** k\n",
    "    for i in range(1, n):\n",
    "        prob.append(comb(num,i)* 0.25**i * 0.75**(num-i))\n",
    "    return 1 - sum(prob)\n",
    "print(\"The probability that at least N AaBb organisms will belong to the k-th generation of Tom's family tree is\",\n",
    "      CDF_binomial_dis(k, n))"
   ]
  },
  {
   "cell_type": "markdown",
   "id": "cce3c790",
   "metadata": {},
   "source": [
    "_**Coded by:**_ **Hasan Daaboul**  \n",
    "_**Email:**_ hasandaaboul4@gmail.com"
   ]
  }
 ],
 "metadata": {
  "kernelspec": {
   "display_name": "Python 3 (ipykernel)",
   "language": "python",
   "name": "python3"
  },
  "language_info": {
   "codemirror_mode": {
    "name": "ipython",
    "version": 3
   },
   "file_extension": ".py",
   "mimetype": "text/x-python",
   "name": "python",
   "nbconvert_exporter": "python",
   "pygments_lexer": "ipython3",
   "version": "3.11.5"
  }
 },
 "nbformat": 4,
 "nbformat_minor": 5
}
