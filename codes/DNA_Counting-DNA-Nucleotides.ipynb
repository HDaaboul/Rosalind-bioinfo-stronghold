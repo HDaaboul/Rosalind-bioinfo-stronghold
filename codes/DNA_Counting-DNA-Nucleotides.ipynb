{
 "cells": [
  {
   "cell_type": "markdown",
   "id": "596005cf-e453-41d6-9c6a-6b8a98464a3c",
   "metadata": {},
   "source": [
    "## Counting DNA Nucleotides\n",
    "### This is the first problem in rosalind bioinformatics stronghold list view"
   ]
  },
  {
   "cell_type": "markdown",
   "id": "1ec8eabc-cad3-4d8e-8ce8-9dec34bf7277",
   "metadata": {},
   "source": [
    "**_Given:_** TXT file contains a DNA string s of length at most 1000 nt.  \n",
    "_**Return:**_ Four integers (separated by spaces) counting the respective number of times that the symbols 'A', 'C', 'G', and 'T' occur in s."
   ]
  },
  {
   "cell_type": "code",
   "execution_count": 1,
   "id": "9ef1019f-28b8-46da-aa93-88007ce24413",
   "metadata": {},
   "outputs": [
    {
     "name": "stdout",
     "output_type": "stream",
     "text": [
      "ATAGCGAAGCATCCGGAGAAGCTTTTATTGCCAAATGTGGAACCGAACCTTGTTTGACAGTCCCAAGGTGTTGCACCGGGACGCCTTAGTTGCTGCTTCCCGACGATGGGATACGTTGAACCAAGTGCGTTCCCAGTCCGGTGATCTGACTCCCAGATAGATCATCACCGGCGCAAACTGGAAGCATATGCCTACTTCTACTAGATAAACGAACGCCCATGGGCGATCACACTGATTCTCGCTGTCCATAGAGGTATCAACCAGAAACGAAGTAGTTCGGGTGAACGAAGACTAGACGACAGGGTATACTCAGAATCACTTGTCCAGCCGCGGGAGTGTCAAGGCGCGACTATCCCGACGAATCTGAAACCCTTATACCTATTCAATTTAAGCTACGGCCAGGTATCCGGTCTTCCCAGTCCTCGTCTAGCTAGCACTCTCTTTACGCGAAGTTAGAACTGTGAGAAGAACATGTTCGTTAACCGCTTCTGTTCGTGTCCGCGGGAGCGGTCTTAGTTTCGTCTACCGTTATACCATGTTGAAACTCCCCGGATGACAAGTGTCCATACCGTCGACGCCATGGTGAAACACGCTTTCAGAGGTATTCTCTAAGCCTACCTAACGTATTAGATAGCCAGTCGACGATAAAGACCCCTGCTCCGCTTGGTTGGCCATTCTTTTAACAGGAAGACCAGAGGAAAAATCTTACGCTCGCAGTCCCGAGATGCGAGTACGGCGATATGGTCCACAAAGCGGTGCGCGCTTAGCTAATCATGCATCGAGGGGTATTTGTAATTTGTCCAGTACAGGAGGCTCTTCCCATTCGTAGGTTCGGCACGCGCACCACC\n"
     ]
    }
   ],
   "source": [
    "# open the .txt file and extract data from it.\n",
    "with open(\"/Users/HASAN/Desktop/Rosalind/rosalind_dna_3_dataset.txt\") as Data_file:\n",
    "    Data = Data_file.readline().strip()\n",
    "print(Data)"
   ]
  },
  {
   "cell_type": "code",
   "execution_count": 2,
   "id": "8ca0f742-2dea-48b3-9381-25535ef65e89",
   "metadata": {},
   "outputs": [],
   "source": [
    "# counting the number of evey nucleotide in DNA sequence\n",
    "def count(DNA_seq):\n",
    "    Nuc_counts = dict(A = 0, C = 0, G = 0, T = 0)\n",
    "    for nuc in DNA_seq:\n",
    "        Nuc_counts[nuc] += 1\n",
    "    return Nuc_counts"
   ]
  },
  {
   "cell_type": "code",
   "execution_count": 3,
   "id": "94f6638c-7679-4f3a-9330-fe06d1d831a0",
   "metadata": {},
   "outputs": [
    {
     "name": "stdout",
     "output_type": "stream",
     "text": [
      "A: 213\n",
      "C: 224\n",
      "G: 206\n",
      "T: 205\n"
     ]
    }
   ],
   "source": [
    "# print nucleotides counts in DNA string\n",
    "nuc_counts = count(Data)\n",
    "for nuc_type in nuc_counts.keys():\n",
    "    print(nuc_type, \": \", nuc_counts[nuc_type], sep=\"\")"
   ]
  },
  {
   "cell_type": "markdown",
   "id": "b51992f3-9242-4ed5-811f-636f696fd912",
   "metadata": {},
   "source": [
    "_**Coded by:**_ **Hasan Daaboul**  \n",
    "_**Email:**_ hasandaaboul4@gmail.com"
   ]
  }
 ],
 "metadata": {
  "kernelspec": {
   "display_name": "Python 3 (ipykernel)",
   "language": "python",
   "name": "python3"
  },
  "language_info": {
   "codemirror_mode": {
    "name": "ipython",
    "version": 3
   },
   "file_extension": ".py",
   "mimetype": "text/x-python",
   "name": "python",
   "nbconvert_exporter": "python",
   "pygments_lexer": "ipython3",
   "version": "3.11.5"
  }
 },
 "nbformat": 4,
 "nbformat_minor": 5
}
