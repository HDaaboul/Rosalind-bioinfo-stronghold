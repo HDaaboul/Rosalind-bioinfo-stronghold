{
 "cells": [
  {
   "cell_type": "markdown",
   "id": "649be679",
   "metadata": {},
   "source": [
    "## Locating Restriction Sites\n",
    "### This is the seventeenth problem in rosalind bioinformatics stronghold list"
   ]
  },
  {
   "cell_type": "markdown",
   "id": "f0035d75",
   "metadata": {},
   "source": [
    "**Restriction sites** are located on a DNA molecule containing specific sequences of nucleotides (4-12 base pairs in length), which are recognized by restriction enzymes. These are generally palindromic sequences (because restriction enzymes usually bind as homodimers), and a particular restriction enzyme may cut the sequence between two nucleotides within its recognition site, or somewhere nearby.\n",
    "A DNA string is a **reverse palindrome** if it is equal to its reverse complement. For instance, GCATGC is a reverse palindrome because its reverse complement is GCATGC. The figure below gives an example for reverse palindrome sequence. ![reverse palindrome](https://rosalind.info/media/problems/revp/palindrome.png)"
   ]
  },
  {
   "cell_type": "markdown",
   "id": "f2cbee54",
   "metadata": {},
   "source": [
    "**_Given:_** A DNA string of length at most 1 kbp in FASTA format.  \n",
    "**_Return:_** The position and length of every reverse palindrome in the string having length between 4 and 12. You may return these pairs in any order."
   ]
  },
  {
   "cell_type": "code",
   "execution_count": 1,
   "id": "04ff1b2d",
   "metadata": {},
   "outputs": [
    {
     "name": "stdout",
     "output_type": "stream",
     "text": [
      "The given DNA sequence is:\n",
      "GCGCTATAACTCAGCTTCTAACGACATCAGGAGGCCGATGCGATACTAACGTTACGATCTTGCAGGACACATCACGACGATAGAGAGTTATCTACCAGCTAGTATTGCGTAGATCTGCAGTGATTGAGTGTAAAAGTTTAGCCGCCCAGGAGGACACTGTATATAAAGGAGTATATTTGAGCGACTAATGTAACTGAGCTGTAGAATAGACATCTTCATAGGATTAGAAGACCACACTCGGCTTGCGATTGCATCATCGTGGCGGTAAGGTTGTATGTGCTCGAAAGCTCCCACGTATGAGACAGGCATCTGCGCCAAATTATTTGCATTTCTCCAACCCGGTCATGTGCCAATAACGGTCTCATTTGTTGTTCCCCATTTATGGTCCTTGACGGTTTTGGTGTAACTTGAATGCGGACATTTCGTTGGTCATCTCGCGCGATGAAGCTTAACAGCATGACTTAGGGATTTACAAAATTGCAATTTCTGTTTAACCGATCCACGGTCAATGCTAAATCCGCTAACCACACAGGTTGTTGCAGGAAATACCGTTCGTGGGTTTAGGAAGCGGTGGGTATGGAGCTTAACCCATGTAGATCCTCTGTGGATATGATTTGGAGACCTCGTGGTTTCCCTGTTCCAGCTAAACATGTAAATCCAGCGATACGACATGCGAATGATCCCGCCCACTATCAATCCCGGTGACTTTATCTGGGATACTGCCGGTCAGCCAGTTCGATTGTCGACATGCCCGTTGGCATCTAGTCATCTTAGCGTAATGTAGTCAGCATGCGCTGTATAGCGGTAGTAGGGACACTGGTACCAGAACCCTTCACAAACGTTCCGCATAGCCAGATTCGTACACATTCGATTTCAACGTACTGATCCCGCGCACACGAGATAATTAATTCCGCATCAGAGTAAGTATACAAGGGACGATAGGGCTGTCAGAACAGCGCG\n"
     ]
    }
   ],
   "source": [
    "# open the .txt file and extract data from it.\n",
    "with open(\"/Users/HASAN/Desktop/Rosalind/rosalind_revp_1_dataset.txt\") as Data_file:\n",
    "    Data = Data_file.readlines()\n",
    "DNA_seq = \"\"\n",
    "for i in range(1, len(Data)):\n",
    "    DNA_seq += Data[i].strip()\n",
    "print(\"The given DNA sequence is:\", DNA_seq, sep='\\n')"
   ]
  },
  {
   "cell_type": "code",
   "execution_count": 2,
   "id": "fec092a8",
   "metadata": {},
   "outputs": [
    {
     "name": "stdout",
     "output_type": "stream",
     "text": [
      "position   length(bp)\n",
      "001           4\n",
      "005           4\n",
      "013           4\n",
      "033           4\n",
      "047           8\n",
      "048           6\n",
      "049           4\n",
      "056           4\n",
      "061           4\n",
      "097           4\n",
      "099           4\n",
      "111           6\n",
      "112           4\n",
      "115           6\n",
      "116           4\n",
      "160           4\n",
      "160           6\n",
      "161           4\n",
      "162           4\n",
      "172           4\n",
      "173           4\n",
      "197           4\n",
      "250           4\n",
      "281           4\n",
      "286           4\n",
      "293           4\n",
      "312           4\n",
      "318           4\n",
      "325           4\n",
      "339           4\n",
      "344           4\n",
      "435           8\n",
      "436           4\n",
      "436           6\n",
      "437           4\n",
      "438           4\n",
      "445           6\n",
      "446           4\n",
      "449           4\n",
      "456           4\n",
      "475           12\n",
      "476           4\n",
      "476           10\n",
      "477           8\n",
      "478           6\n",
      "479           4\n",
      "482           4\n",
      "491           4\n",
      "497           4\n",
      "538           4\n",
      "581           4\n",
      "584           4\n",
      "590           4\n",
      "596           4\n",
      "608           4\n",
      "642           4\n",
      "648           6\n",
      "649           4\n",
      "670           4\n",
      "679           4\n",
      "699           4\n",
      "723           4\n",
      "736           4\n",
      "741           8\n",
      "742           6\n",
      "743           4\n",
      "747           4\n",
      "762           4\n",
      "788           6\n",
      "789           4\n",
      "792           4\n",
      "798           4\n",
      "817           10\n",
      "818           8\n",
      "819           6\n",
      "820           4\n",
      "838           6\n",
      "839           4\n",
      "860           4\n",
      "868           4\n",
      "877           4\n",
      "879           4\n",
      "884           4\n",
      "889           4\n",
      "890           4\n",
      "902           6\n",
      "903           4\n",
      "903           8\n",
      "904           6\n",
      "905           4\n",
      "907           4\n",
      "925           6\n",
      "926           4\n",
      "956           4\n",
      "957           4\n"
     ]
    }
   ],
   "source": [
    "# the code below will find the position and length of every reverse palindrome in the DNA string having length between 4 and 12\n",
    "str1 = 'ATGC'\n",
    "str2 = \"TACG\"\n",
    "print(\"position   length(bp)\")\n",
    "for seg in range(len(DNA_seq)):\n",
    "    for base in range(4, 13, 2):\n",
    "        short_seg = DNA_seq[seg: seg + base]\n",
    "        # checking if the short segment is reverse palindrome or not!\n",
    "        if short_seg == short_seg[:: -1].translate(str.maketrans(str1, str2)): \n",
    "            if len(DNA_seq[seg: seg + base]) < 4:\n",
    "                break\n",
    "            # print the results one by one\n",
    "            print(\"{:03d}\".format(seg + 1), \"         \", len(DNA_seq[seg: seg + base])) \n",
    "            if len(DNA_seq) - len(DNA_seq[: seg]) < 12:\n",
    "                break"
   ]
  },
  {
   "cell_type": "markdown",
   "id": "9a9ca65e",
   "metadata": {},
   "source": [
    "_**Coded by:**_ **Hasan Daaboul**  \n",
    "_**Email:**_ hasandaaboul4@gmail.com"
   ]
  }
 ],
 "metadata": {
  "kernelspec": {
   "display_name": "Python 3 (ipykernel)",
   "language": "python",
   "name": "python3"
  },
  "language_info": {
   "codemirror_mode": {
    "name": "ipython",
    "version": 3
   },
   "file_extension": ".py",
   "mimetype": "text/x-python",
   "name": "python",
   "nbconvert_exporter": "python",
   "pygments_lexer": "ipython3",
   "version": "3.11.5"
  }
 },
 "nbformat": 4,
 "nbformat_minor": 5
}
