{
 "cells": [
  {
   "cell_type": "markdown",
   "id": "c7d1b7cb-b6f0-42b6-9f92-551b217e9b04",
   "metadata": {},
   "source": [
    "## Finding a Motif in DNA\n",
    "### This is the ninth problem in rosalind bioinformatics stronghold list"
   ]
  },
  {
   "cell_type": "markdown",
   "id": "67e79c45-3e4f-4079-b1ac-a98f8241d680",
   "metadata": {},
   "source": [
    "**_Given:_** Two DNA strings s  and t  (each of length at most 1 kbp).  \n",
    "**_Return:_** All locations of t  as a substring of s."
   ]
  },
  {
   "cell_type": "code",
   "execution_count": 1,
   "id": "1a773cca-27ad-4842-8ab3-f485847c3821",
   "metadata": {},
   "outputs": [
    {
     "name": "stdout",
     "output_type": "stream",
     "text": [
      "The DNA sequence is:\n",
      "TTTTCCTAGCCGTTAGAGCCGTTCAACAGCCGTTACACCGGGTTTAAGCCGTTTGGAGCCGTTATTTGCACAAGAAGCCGTTAGCCGTTTGCCTAGCCGTTCAGCCGTTAGCCGTTAGGAGGCCAAGCCGTTAGCCGTTACTAAGCCGTTTAATAGCCGTTCAAAAGCCGTTAGCCGTTGCAGCCGTTTTCTCGAGCCGTTCCGGAAGCCGTTAGCCGTTGAAAAGCCGTTAGCCGTTAGGTAGCCGTTTAAAAGCCGTTCGAGCCGTTCGTAGCCGTTTTCCATCGCCAGCCGTTAGCCGTTAGCCGTTTTAGCCGTTCGGAGCCGTTTTAGCCGTTGTGAAGCCGTTGCACAGGGGTAAGCCGTTAGCCGTTCCTAGCCGTTTGAGCCGTTAGCCGTTTTGTAGAGCCGTTAGCCGTTAAGCCGTTGAGCCGTTGAGCCGTTTATCGAAGCCGTTAGAGCCGTTAGCCGTTAGCCGTTACGTGCTAGCCGTTTAGCCGTTCGAATAGTCCTCGAAGTGTTAGCCGTTGTTAAAGAGCCGTTAGCCGTTCTATGTTCAAGAAGCCGTTAGCCGTTATCAGCCGTTACTTAAAGAGCCCAGCCGTTGCAGCCGTTAGCCGTTAGCCGTTAGCCGTTAGAGCCGTTAAGCCGTTCCAGCCGTTTTTTTGACTGGAGCCGTTCGCAGCCGTTAGCCGTTACTAGGTAGCCGTTAGGCGTAGCCGTTCAGCCGTTTCAGCCGTTAGCCGTTATAGCCGTTCAGCCGTTTGGATAGCCGTTTAGCCGTTTAGACCCGAGCCGTTTAAGAACAAGCCGTTTTGCTCTGAGCCGTTTAGCCGTTAGCCGTTAGCCGTTAGCCGTTACGAGCCGTTAGCCGTTAGCCGTTAGACTAAGCCGTTTACGAC\n",
      "The motif sequence is:\n",
      "AGCCGTTAG\n"
     ]
    }
   ],
   "source": [
    "# open the .txt file and extract data from it.\n",
    "with open(\"/Users/HASAN/Desktop/Rosalind/rosalind_subs_1_dataset.txt\") as Data_file:\n",
    "    Data = Data_file.readlines()\n",
    "DNA_seq = Data[0].strip().upper()\n",
    "motif = Data[1].strip().upper()\n",
    "print(\"The DNA sequence is:\\n\", DNA_seq,\"\\nThe motif sequence is:\\n\", motif, sep=\"\")"
   ]
  },
  {
   "cell_type": "code",
   "execution_count": 2,
   "id": "cddec8c3-df81-41d9-91ce-96027e6d13e6",
   "metadata": {},
   "outputs": [],
   "source": [
    "# this function will find all the starting locations of the motif sequence in the DNA sequence\n",
    "def locations(DNA, motif):\n",
    "    ln_DNA = len(DNA)\n",
    "    ln_motif = len(motif)\n",
    "    loc_list = list()\n",
    "    for nuc in range(ln_DNA - ln_motif + 1):\n",
    "        if DNA[nuc: nuc + ln_motif] == motif:\n",
    "            loc_list.append(nuc + 1)\n",
    "    return loc_list"
   ]
  },
  {
   "cell_type": "code",
   "execution_count": 3,
   "id": "64f4f636-a0ae-47d5-ad3b-f92b9ccd2e61",
   "metadata": {},
   "outputs": [
    {
     "name": "stdout",
     "output_type": "stream",
     "text": [
      "The locations of motif in DNA sequence are:\n",
      " 8 76 103 110 126 166 207 225 232 290 297 361 387 407 451 460 467 537 563 609 616 623 630 684 705 735 832 839 846 863 870 877\n"
     ]
    }
   ],
   "source": [
    "# write out the starting locations of the motif sequence in the DNA sequence\n",
    "result = locations(DNA_seq, motif)\n",
    "print(\"The locations of motif in DNA sequence are:\\n\", *result)"
   ]
  },
  {
   "cell_type": "markdown",
   "id": "4ce31480-a00a-4b30-8e41-2cec41f6c774",
   "metadata": {},
   "source": [
    "_**Coded by:**_ **Hasan Daaboul**  \n",
    "_**Email:**_ hasandaaboul4@gmail.com"
   ]
  }
 ],
 "metadata": {
  "kernelspec": {
   "display_name": "Python 3 (ipykernel)",
   "language": "python",
   "name": "python3"
  },
  "language_info": {
   "codemirror_mode": {
    "name": "ipython",
    "version": 3
   },
   "file_extension": ".py",
   "mimetype": "text/x-python",
   "name": "python",
   "nbconvert_exporter": "python",
   "pygments_lexer": "ipython3",
   "version": "3.11.5"
  }
 },
 "nbformat": 4,
 "nbformat_minor": 5
}
