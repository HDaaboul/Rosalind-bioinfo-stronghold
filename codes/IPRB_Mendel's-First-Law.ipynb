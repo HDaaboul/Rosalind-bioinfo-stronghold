{
 "cells": [
  {
   "cell_type": "markdown",
   "id": "cdfb7188-9e22-4f55-9b0c-492f1a08a83e",
   "metadata": {},
   "source": [
    "## Mendel's First Law\n",
    "### This is the seventh problem in rosalind bioinformatics stronghold list"
   ]
  },
  {
   "cell_type": "markdown",
   "id": "22d1456d-b89d-483f-85d2-2220e5b12f30",
   "metadata": {},
   "source": [
    "**_Given:_** Three positive integers k,  m, and n, representing a population containing k+m+n organisms: k individuals are homozygous dominant for a factor, m are heterozygous, and n are homozygous recessive.  \n",
    "**_Return:_** The probability that two randomly selected mating organisms will produce an individual possessing a dominant allele (and thus displaying the dominant phenotype). Assume that any two organisms can mate."
   ]
  },
  {
   "cell_type": "code",
   "execution_count": 1,
   "id": "d34a8ca1-8985-4ab7-9903-32023fedeeb7",
   "metadata": {},
   "outputs": [],
   "source": [
    "# at the begginning we will import comb (combinations) function from math libray\n",
    "from math import comb"
   ]
  },
  {
   "cell_type": "code",
   "execution_count": 2,
   "id": "330f4864-4e6e-4455-adb9-54bdb3b3c7af",
   "metadata": {},
   "outputs": [
    {
     "name": "stdout",
     "output_type": "stream",
     "text": [
      "homozygous dominant number: 18 , heterozygous number: 23 , homozygous recessive number: 26\n"
     ]
    }
   ],
   "source": [
    "with open(\"/Users/HASAN/Desktop/Rosalind/rosalind_iprb_1_dataset.txt\") as Data_file:\n",
    "    Data = Data_file.readline().strip()\n",
    "k, m, n = map(int, Data.split(\" \"))\n",
    "print(\"homozygous dominant number:\", k, \", heterozygous number:\", m, \", homozygous recessive number:\", n)"
   ]
  },
  {
   "cell_type": "code",
   "execution_count": 3,
   "id": "f3ec724f-e76a-4f5f-ba89-ca6b22900eab",
   "metadata": {},
   "outputs": [
    {
     "name": "stdout",
     "output_type": "stream",
     "text": [
      "Total possible groups is: 2211\n"
     ]
    }
   ],
   "source": [
    "# calculate the total probable groups number\n",
    "total = comb(m + n + k, 2)\n",
    "print(\"Total possible groups is:\", total)"
   ]
  },
  {
   "cell_type": "markdown",
   "id": "179b3222-f918-4aec-8d06-393e142d655f",
   "metadata": {},
   "source": [
    "**before proceeding to the next section of code, I recommend reading [this Khan Academy article](https://www.khanacademy.org/science/ap-biology/heredity/mendelian-genetics-ap/a/probabilities-in-genetics) about Probabilities in genetics, if you are new to genetics or probability.**  \n",
    "\n",
    "Now I will talk about all the possibile combinations to produce individuals with at least one dominant allele and thier probabilities:  \n",
    "* homozygous dominant with homozygous dominant: probability equals 1\n",
    "* heterozygous with heterozygous: probability equals 0.75\n",
    "* homozygous recessive with homozygous recessive: probability equals 0\n",
    "* homozygous dominant with heterozygous: probability equals 1\n",
    "* homozygous dominant with homozygous recessive: probability equals 1\n",
    "* heterozygous withhomozygous recessive: probability equals 0.5"
   ]
  },
  {
   "cell_type": "code",
   "execution_count": 4,
   "id": "7c372ff0-d25a-4cf8-ab95-ad9493ff1a00",
   "metadata": {},
   "outputs": [
    {
     "name": "stdout",
     "output_type": "stream",
     "text": [
      "The probability that two randomly selected mating organisms will produce an individual possessing a dominant allele 68.91678\n"
     ]
    }
   ],
   "source": [
    "# i will list now all the weighted combinations to produce individuals with at least one dominant allele\n",
    "weighted_comb1 = comb(k+m+n, 2) - comb(m+n, 2)\n",
    "weighted_comb2 = 0.75 * comb(m, 2)\n",
    "weighted_comb3 = 0.5 * (comb(m+n, 2) - comb(m, 2) - comb(n, 2))\n",
    "sum_weighted_combs = weighted_comb1 + weighted_comb2 + weighted_comb3\n",
    "# The probability that two randomly selected mating organisms will produce an individual possessing a dominant allele\n",
    "probabilty = sum_weighted_combs / total * 100\n",
    "print(\"The probability that two randomly selected mating organisms will produce an individual possessing a dominant allele\", round(probabilty, 5))"
   ]
  },
  {
   "cell_type": "markdown",
   "id": "ccd5b337-35bc-401d-967b-aff6095dd50b",
   "metadata": {},
   "source": [
    "_**Coded by:**_ **Hasan Daaboul**  \n",
    "_**Email:**_ hasandaaboul4@gmail.com"
   ]
  }
 ],
 "metadata": {
  "kernelspec": {
   "display_name": "Python 3 (ipykernel)",
   "language": "python",
   "name": "python3"
  },
  "language_info": {
   "codemirror_mode": {
    "name": "ipython",
    "version": 3
   },
   "file_extension": ".py",
   "mimetype": "text/x-python",
   "name": "python",
   "nbconvert_exporter": "python",
   "pygments_lexer": "ipython3",
   "version": "3.11.5"
  }
 },
 "nbformat": 4,
 "nbformat_minor": 5
}
