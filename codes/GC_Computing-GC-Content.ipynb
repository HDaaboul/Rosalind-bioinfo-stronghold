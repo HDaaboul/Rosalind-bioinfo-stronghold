{
 "cells": [
  {
   "cell_type": "markdown",
   "id": "01c7e5b1-fc6f-4741-91e2-048d368188c4",
   "metadata": {},
   "source": [
    "## Computing GC Content\n",
    "### This is the fifth problem in rosalind bioinformatics stronghold list"
   ]
  },
  {
   "cell_type": "markdown",
   "id": "04b0938c-5be0-44fb-b894-8148abf97eff",
   "metadata": {},
   "source": [
    "**_Given:_** At most 10 DNA strings in FASTA format (of length at most 1 kbp each).  \n",
    "**_Return:_** The ID of the string having the highest GC-content, followed by the GC-content of that string. Rosalind allows for a default error of 0.001 in all decimal answers unless otherwise state."
   ]
  },
  {
   "cell_type": "code",
   "execution_count": 1,
   "id": "1ca5ed8e-2e06-4832-8ac9-75abb770207c",
   "metadata": {},
   "outputs": [],
   "source": [
    "# open the .txt file and extract data from it.\n",
    "with open(\"/Users/HASAN/Desktop/Rosalind/rosalind_gc_5_dataset.txt\") as Data_file:\n",
    "    Data = Data_file.readlines()\n",
    "# format the FASTA data in a tidy and readable form (I chose to format them in a dictionary in this case)\n",
    "IDs_num = 0\n",
    "DNA_strings = dict()\n",
    "for line in Data:\n",
    "    if line.startswith(\">\"):\n",
    "        IDs_num += 1\n",
    "        ID = line.strip()[1:]\n",
    "        DNA_strings[ID] = \"\"\n",
    "    else:\n",
    "        DNA_strings[ID] += line.strip()\n",
    "# Now we have a dictionary where keys are the rosalind ID and values are the specific DNA sequence for each Rosalind ID\n",
    "# you can try: print(DNA_strings), to view the new form of the data"
   ]
  },
  {
   "cell_type": "code",
   "execution_count": 2,
   "id": "fe6022d7-bb45-45b9-9b5d-5c2715a00aac",
   "metadata": {},
   "outputs": [
    {
     "name": "stdout",
     "output_type": "stream",
     "text": [
      "{'Rosalind_2508': 50.105485, 'Rosalind_5793': 47.634409, 'Rosalind_1230': 50.68929, 'Rosalind_6844': 51.12782, 'Rosalind_0713': 48.0, 'Rosalind_3646': 48.593074, 'Rosalind_7132': 48.580442}\n"
     ]
    }
   ],
   "source": [
    "# calculate the GC percentage in each unique sequence and store them in a dictionary\n",
    "GC_dic = dict()\n",
    "for ID in DNA_strings.keys():\n",
    "    GC_content = 0\n",
    "    for nuc in DNA_strings[ID]:\n",
    "        if nuc.upper() == \"G\" or nuc.upper() == \"C\":\n",
    "            GC_content += 1\n",
    "    GC_dic[ID] = round(GC_content / len(DNA_strings[ID]) * 100, 6)\n",
    "print(GC_dic)"
   ]
  },
  {
   "cell_type": "code",
   "execution_count": 3,
   "id": "be0f57b3-7bfb-40b7-9cd8-3850fd83d1a4",
   "metadata": {},
   "outputs": [
    {
     "name": "stdout",
     "output_type": "stream",
     "text": [
      "The highest GC percent is located in: Rosalind_6844\n",
      "Its GC percent is: 51.12782%\n"
     ]
    }
   ],
   "source": [
    "# finding the highest GC percent and print it out\n",
    "max_GC_perc = max(GC_dic.values())\n",
    "for ID in GC_dic.keys():\n",
    "    if GC_dic[ID] == max_GC_perc:\n",
    "        print(\"The highest GC percent is located in:\", ID)\n",
    "        print(\"Its GC percent is: \", GC_dic[ID], \"%\", sep=\"\")\n",
    "        break"
   ]
  },
  {
   "cell_type": "markdown",
   "id": "76b82a39-8c4d-461e-a5ee-e9deafe76c69",
   "metadata": {},
   "source": [
    "_**Coded by:**_ **Hasan Daaboul**  \n",
    "_**Email:**_ hasandaaboul4@gmail.com"
   ]
  }
 ],
 "metadata": {
  "kernelspec": {
   "display_name": "Python 3 (ipykernel)",
   "language": "python",
   "name": "python3"
  },
  "language_info": {
   "codemirror_mode": {
    "name": "ipython",
    "version": 3
   },
   "file_extension": ".py",
   "mimetype": "text/x-python",
   "name": "python",
   "nbconvert_exporter": "python",
   "pygments_lexer": "ipython3",
   "version": "3.11.5"
  }
 },
 "nbformat": 4,
 "nbformat_minor": 5
}
