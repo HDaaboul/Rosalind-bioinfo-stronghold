{
 "cells": [
  {
   "cell_type": "markdown",
   "id": "a511fdc0",
   "metadata": {},
   "source": [
    "## Finding a Protein Motif\n",
    "### This is the twentieth problem in rosalind bioinformatics stronghold list"
   ]
  },
  {
   "cell_type": "markdown",
   "id": "045a57f2",
   "metadata": {},
   "source": [
    "**To allow for the presence of its varying forms, a protein motif is represented by a shorthand as follows: [XY] means (either X or Y) and {X} means \"any amino acid except X.\" For example, the N-glycosylation motif is written as N{P}[ST]{P}.**"
   ]
  },
  {
   "cell_type": "markdown",
   "id": "de254d1c",
   "metadata": {},
   "source": [
    "**_Given:_** At most 15 UniProt Protein Database access IDs.  \n",
    "**_Return:_** For each protein possessing the N-glycosylation motif, output its given access ID followed by a list of locations in the protein string where the motif can be found."
   ]
  },
  {
   "cell_type": "code",
   "execution_count": 1,
   "id": "2f240a3c",
   "metadata": {},
   "outputs": [],
   "source": [
    "# import urllib library, we will meed it to connect with uniprot database website and extract protein strings from it.\n",
    "import urllib.request"
   ]
  },
  {
   "cell_type": "code",
   "execution_count": 2,
   "id": "1d3dde42",
   "metadata": {},
   "outputs": [
    {
     "name": "stdout",
     "output_type": "stream",
     "text": [
      "dict_keys(['Q67JS9', 'Q5FMJ3', 'Q1JLH6', 'P10643', 'P72173', 'P02974', 'Q7S432', 'Q9D9T0', 'Q9LHF1', 'P10646', 'A5F5B4', 'P01008', 'P47002', 'P09791', 'P11279'])\n"
     ]
    }
   ],
   "source": [
    "# open the .txt file and extract data from it.\n",
    "with open(\"/Users/HASAN/Desktop/Rosalind/rosalind_mprt.txt\") as Data_file:\n",
    "    Data = Data_file.readlines()\n",
    "# extract uniprot IDs from the data file\n",
    "uniprot_IDs = dict()\n",
    "given_uni_IDs = dict()\n",
    "for line in Data:\n",
    "    if \"_\" in line:\n",
    "        ID_end = line.find(\"_\")\n",
    "        uniprot_IDs[line[: ID_end]] = \"\"\n",
    "        given_uni_IDs[line[: ID_end]] = line.strip()\n",
    "    else:\n",
    "        uniprot_IDs[line.strip()] = \"\"\n",
    "        given_uni_IDs[line.strip()] = line.strip()\n",
    "print(uniprot_IDs.keys())"
   ]
  },
  {
   "cell_type": "code",
   "execution_count": 3,
   "id": "96a369cb",
   "metadata": {},
   "outputs": [],
   "source": [
    "# upload the protein sequences from uniprot database website to the IDs dictionary\n",
    "# note: this step needs intrnet!\n",
    "for ID in uniprot_IDs.keys():\n",
    "    fasta = urllib.request.urlopen(\"http://www.uniprot.org/uniprot/\" + ID + \".fasta\").readlines()\n",
    "    prot_seq = \"\"\n",
    "    for line in range(1, len(fasta)):\n",
    "        prot_seq += str(fasta[line]).strip()[2: -3]\n",
    "    uniprot_IDs[ID] = prot_seq"
   ]
  },
  {
   "cell_type": "code",
   "execution_count": 4,
   "id": "f730f98c",
   "metadata": {
    "scrolled": true
   },
   "outputs": [
    {
     "name": "stdout",
     "output_type": "stream",
     "text": [
      "Access ID for pretein sequences that contain N-glycosylation motif and locations of these motifs are:\n",
      "Q5FMJ3\n",
      "15 27 195\n",
      "Q1JLH6\n",
      "70 120 212\n",
      "P10643_CO7_HUMAN\n",
      "202 754\n",
      "P72173\n",
      "87 284 383\n",
      "P02974_FMM1_NEIGO\n",
      "67 68 121\n",
      "Q7S432\n",
      "173\n",
      "Q9D9T0\n",
      "154\n",
      "Q9LHF1\n",
      "3 4 60 94 106 289 340\n",
      "P10646_TFPI_HUMAN\n",
      "145 195 256\n",
      "A5F5B4\n",
      "68\n",
      "P01008_ANT3_HUMAN\n",
      "128 167 187 224\n",
      "P47002\n",
      "35 552 608\n",
      "P09791_PARB_TRYBB\n",
      "56\n",
      "P11279_LMP1_HUMAN\n",
      "37 45 62 76 84 103 107 121 130 165 181 223 228 241 249 261 293 322\n"
     ]
    }
   ],
   "source": [
    "# searching for N-glycosylation motif locations in every protein sequence and print them out\n",
    "print(\"Access ID for pretein sequences that contain N-glycosylation motif and locations of these motifs are:\")\n",
    "for ID in uniprot_IDs.keys():\n",
    "    N_glyco_locations = list()\n",
    "    for aa in range(len(uniprot_IDs[ID]) - 3):\n",
    "        motif = uniprot_IDs[ID][aa: aa+4]\n",
    "        if motif[0] == \"N\":\n",
    "            if motif[1] != \"P\" and motif[3] != \"P\":\n",
    "                if motif[2] == \"S\" or motif[2] == \"T\":\n",
    "                    N_glyco_locations.append(aa + 1)\n",
    "    if len(N_glyco_locations) != 0:\n",
    "        print(given_uni_IDs[ID])\n",
    "        print(*N_glyco_locations)"
   ]
  },
  {
   "cell_type": "markdown",
   "id": "eadfcb4f",
   "metadata": {},
   "source": [
    "_**Coded by:**_ **Hasan Daaboul**  \n",
    "_**Email:**_ hasandaaboul4@gmail.com"
   ]
  }
 ],
 "metadata": {
  "kernelspec": {
   "display_name": "Python 3 (ipykernel)",
   "language": "python",
   "name": "python3"
  },
  "language_info": {
   "codemirror_mode": {
    "name": "ipython",
    "version": 3
   },
   "file_extension": ".py",
   "mimetype": "text/x-python",
   "name": "python",
   "nbconvert_exporter": "python",
   "pygments_lexer": "ipython3",
   "version": "3.11.5"
  }
 },
 "nbformat": 4,
 "nbformat_minor": 5
}
