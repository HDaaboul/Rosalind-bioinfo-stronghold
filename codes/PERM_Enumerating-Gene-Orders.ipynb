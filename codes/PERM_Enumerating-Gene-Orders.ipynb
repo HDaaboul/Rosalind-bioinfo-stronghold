{
 "cells": [
  {
   "cell_type": "markdown",
   "id": "43d286c0",
   "metadata": {},
   "source": [
    "## Enumerating Gene Orders\n",
    "### This is the fifteenth problem in rosalind bioinformatics stronghold list"
   ]
  },
  {
   "cell_type": "markdown",
   "id": "18ca1906",
   "metadata": {},
   "source": [
    "### What is permutation?  \n",
    "In mathematics, a **_permutation_** of a set is, loosely speaking, an arrangement of its members into a sequence or linear order, or if the set is already ordered, a rearrangement of its elements. The word \"permutation\" also refers to the act or process of changing the linear order of an ordered set.\n",
    "\n",
    "For example, there are six permutations (orderings) of the set {1,2,3}: written as tuples, they are (1,2,3), (1,3,2), (2,1,3), (2,3,1), (3,1,2), and (3,2,1). Anagrams of a word whose letters are all different are also permutations: the letters are already ordered in the original word, and the anagram reorders them. The study of permutations of finite sets is an important topic in combinatorics and group theory."
   ]
  },
  {
   "cell_type": "markdown",
   "id": "462994ea",
   "metadata": {},
   "source": [
    "**_Given:_** A positive integer n ≤ 7.  \n",
    "**_Return:_** The total number of permutations of length n, followed by a list of all such permutations in any order."
   ]
  },
  {
   "cell_type": "code",
   "execution_count": 1,
   "id": "27b0fdc2",
   "metadata": {},
   "outputs": [],
   "source": [
    "# import important libraries\n",
    "from math import perm\n",
    "from itertools import permutations "
   ]
  },
  {
   "cell_type": "markdown",
   "id": "41fd299b",
   "metadata": {},
   "source": [
    "The **perm** function from **math** library will calculate the total number of possible rearrangements of the set that contains numbers from 1 to n, According to the equation:![PERMUTATION EQUATION](https://i0.wp.com/www.fairlynerdy.com/wp-content/uploads/2016/02/permutations-1.png?resize=625%2C255)\n",
    "  \n",
    "#### In this problem, k = n, so the equation will be **n!**  \n",
    "\n",
    "The **permutations** function from **itertools** library will find all of the unique sets produced by rearrangements of the set that contains numbers from 1 to n."
   ]
  },
  {
   "cell_type": "code",
   "execution_count": 2,
   "id": "7c8d6557",
   "metadata": {},
   "outputs": [
    {
     "name": "stdout",
     "output_type": "stream",
     "text": [
      "The size of the set is: 5\n"
     ]
    }
   ],
   "source": [
    "# open the .txt file and extract data from it.\n",
    "with open(\"/Users/HASAN/Desktop/Rosalind/rosalind_perm_1_dataset.txt\") as Data_file:\n",
    "    Data = Data_file.readline().strip()\n",
    "set_size = int(Data)\n",
    "print(\"The size of the set is:\", set_size)"
   ]
  },
  {
   "cell_type": "code",
   "execution_count": 11,
   "id": "a28ed9e3",
   "metadata": {},
   "outputs": [
    {
     "name": "stdout",
     "output_type": "stream",
     "text": [
      "The elements of the set are: {1, 2, 3, 4, 5}\n",
      "The total number of possible permutations of length 5 is: 120\n",
      "All of the unique permutations sets are:\n",
      "(1, 2, 3, 4, 5) (1, 2, 3, 5, 4) (1, 2, 4, 3, 5) (1, 2, 4, 5, 3) (1, 2, 5, 3, 4) (1, 2, 5, 4, 3) (1, 3, 2, 4, 5) (1, 3, 2, 5, 4) (1, 3, 4, 2, 5) (1, 3, 4, 5, 2) (1, 3, 5, 2, 4) (1, 3, 5, 4, 2) (1, 4, 2, 3, 5) (1, 4, 2, 5, 3) (1, 4, 3, 2, 5) (1, 4, 3, 5, 2) (1, 4, 5, 2, 3) (1, 4, 5, 3, 2) (1, 5, 2, 3, 4) (1, 5, 2, 4, 3) (1, 5, 3, 2, 4) (1, 5, 3, 4, 2) (1, 5, 4, 2, 3) (1, 5, 4, 3, 2) (2, 1, 3, 4, 5) (2, 1, 3, 5, 4) (2, 1, 4, 3, 5) (2, 1, 4, 5, 3) (2, 1, 5, 3, 4) (2, 1, 5, 4, 3) (2, 3, 1, 4, 5) (2, 3, 1, 5, 4) (2, 3, 4, 1, 5) (2, 3, 4, 5, 1) (2, 3, 5, 1, 4) (2, 3, 5, 4, 1) (2, 4, 1, 3, 5) (2, 4, 1, 5, 3) (2, 4, 3, 1, 5) (2, 4, 3, 5, 1) (2, 4, 5, 1, 3) (2, 4, 5, 3, 1) (2, 5, 1, 3, 4) (2, 5, 1, 4, 3) (2, 5, 3, 1, 4) (2, 5, 3, 4, 1) (2, 5, 4, 1, 3) (2, 5, 4, 3, 1) (3, 1, 2, 4, 5) (3, 1, 2, 5, 4) (3, 1, 4, 2, 5) (3, 1, 4, 5, 2) (3, 1, 5, 2, 4) (3, 1, 5, 4, 2) (3, 2, 1, 4, 5) (3, 2, 1, 5, 4) (3, 2, 4, 1, 5) (3, 2, 4, 5, 1) (3, 2, 5, 1, 4) (3, 2, 5, 4, 1) (3, 4, 1, 2, 5) (3, 4, 1, 5, 2) (3, 4, 2, 1, 5) (3, 4, 2, 5, 1) (3, 4, 5, 1, 2) (3, 4, 5, 2, 1) (3, 5, 1, 2, 4) (3, 5, 1, 4, 2) (3, 5, 2, 1, 4) (3, 5, 2, 4, 1) (3, 5, 4, 1, 2) (3, 5, 4, 2, 1) (4, 1, 2, 3, 5) (4, 1, 2, 5, 3) (4, 1, 3, 2, 5) (4, 1, 3, 5, 2) (4, 1, 5, 2, 3) (4, 1, 5, 3, 2) (4, 2, 1, 3, 5) (4, 2, 1, 5, 3) (4, 2, 3, 1, 5) (4, 2, 3, 5, 1) (4, 2, 5, 1, 3) (4, 2, 5, 3, 1) (4, 3, 1, 2, 5) (4, 3, 1, 5, 2) (4, 3, 2, 1, 5) (4, 3, 2, 5, 1) (4, 3, 5, 1, 2) (4, 3, 5, 2, 1) (4, 5, 1, 2, 3) (4, 5, 1, 3, 2) (4, 5, 2, 1, 3) (4, 5, 2, 3, 1) (4, 5, 3, 1, 2) (4, 5, 3, 2, 1) (5, 1, 2, 3, 4) (5, 1, 2, 4, 3) (5, 1, 3, 2, 4) (5, 1, 3, 4, 2) (5, 1, 4, 2, 3) (5, 1, 4, 3, 2) (5, 2, 1, 3, 4) (5, 2, 1, 4, 3) (5, 2, 3, 1, 4) (5, 2, 3, 4, 1) (5, 2, 4, 1, 3) (5, 2, 4, 3, 1) (5, 3, 1, 2, 4) (5, 3, 1, 4, 2) (5, 3, 2, 1, 4) (5, 3, 2, 4, 1) (5, 3, 4, 1, 2) (5, 3, 4, 2, 1) (5, 4, 1, 2, 3) (5, 4, 1, 3, 2) (5, 4, 2, 1, 3) (5, 4, 2, 3, 1) (5, 4, 3, 1, 2) (5, 4, 3, 2, 1)\n"
     ]
    }
   ],
   "source": [
    "# I added one to the set size cause the range function doesn't include the last element in the list\n",
    "set_elements = list(range(1, set_size + 1))\n",
    "print(\"The elements of the set are:\", set(set_elements))\n",
    "print(\"The total number of possible permutations of length {} is:\".format(set_size), perm(set_size, set_size))\n",
    "print(\"All of the unique permutations sets are:\")\n",
    "print(*list(permutations(set_elements)))"
   ]
  },
  {
   "cell_type": "markdown",
   "id": "4b59fa88",
   "metadata": {},
   "source": [
    "_**Coded by:**_ **Hasan Daaboul**  \n",
    "_**Email:**_ hasandaaboul4@gmail.com"
   ]
  }
 ],
 "metadata": {
  "kernelspec": {
   "display_name": "Python 3 (ipykernel)",
   "language": "python",
   "name": "python3"
  },
  "language_info": {
   "codemirror_mode": {
    "name": "ipython",
    "version": 3
   },
   "file_extension": ".py",
   "mimetype": "text/x-python",
   "name": "python",
   "nbconvert_exporter": "python",
   "pygments_lexer": "ipython3",
   "version": "3.11.5"
  }
 },
 "nbformat": 4,
 "nbformat_minor": 5
}
