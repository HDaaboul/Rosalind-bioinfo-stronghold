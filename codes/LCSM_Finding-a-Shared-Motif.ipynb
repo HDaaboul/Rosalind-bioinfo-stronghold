{
 "cells": [
  {
   "cell_type": "markdown",
   "id": "a6c9a566-246d-45fb-918e-ffc04e809794",
   "metadata": {},
   "source": [
    "## Finding a Shared Motif\n",
    "### This is the thirteen problem in rosalind bioinformatics stronghold list"
   ]
  },
  {
   "cell_type": "markdown",
   "id": "b6693904-97f5-46fd-891c-b19ee802aa84",
   "metadata": {},
   "source": [
    "**_Given:_** A collection of k (k≤100) DNA strings of length at most 1 kbp each in FASTA format.  \n",
    "**_Return:_** A longest common substring of the collection. If multiple solutions exist, you may return any single solution."
   ]
  },
  {
   "cell_type": "code",
   "execution_count": 1,
   "id": "8dcc5ac7-c8bc-4bbf-bba3-b13c490832ad",
   "metadata": {},
   "outputs": [],
   "source": [
    "# import random library\n",
    "import random"
   ]
  },
  {
   "cell_type": "code",
   "execution_count": 2,
   "id": "3f24a873-7951-4406-a5a0-37c4e1f7ef63",
   "metadata": {},
   "outputs": [],
   "source": [
    "# open the .txt file and extract data from it.\n",
    "with open(\"/Users/HASAN/Desktop/Rosalind/rosalind_lcsm_3_dataset.txt\") as Data_file:\n",
    "    Data = Data_file.readlines()\n",
    "# format the FASTA data in a tidy and readable form (I chose to format them in a list in this case) and sort the strings by their length\n",
    "IDs_num = -1\n",
    "list_of_seq = list()\n",
    "for line in Data:\n",
    "    if line.startswith(\">\"):\n",
    "        IDs_num += 1\n",
    "        list_of_seq.append(\"\")\n",
    "    else:\n",
    "        list_of_seq[IDs_num] += line.strip()\n",
    "list_of_seq.sort(key=len)\n",
    "number_of_fragments = len(list_of_seq)"
   ]
  },
  {
   "cell_type": "code",
   "execution_count": 3,
   "id": "199b6be0-3db9-4a1a-ae15-d11af45d1190",
   "metadata": {},
   "outputs": [
    {
     "name": "stdout",
     "output_type": "stream",
     "text": [
      "The longest common substring of the DNA strings collection is:\n",
      "CAAGCGCCCTACCTCAGGCATATCGTGCGTTCCTGAGACTGGTGTTGCGGCATTCAGGTTACTTACAATTGTACGGTACGTAAAGGTGGCGGACAATTGTGC\n"
     ]
    }
   ],
   "source": [
    "# this code below will find the longest common substring of the DNA strings collection\n",
    "sug_long = random.randint(50, 100) # suggested long of the substring\n",
    "N_of_occ = 0\n",
    "x = True\n",
    "while x is True:\n",
    "    z = 0\n",
    "    for i in range(len(list_of_seq[0]) - sug_long + 1):\n",
    "        z = 0\n",
    "        for j in range(1, number_of_fragments):\n",
    "            if list_of_seq[0][i: i+sug_long] in list_of_seq[j]:\n",
    "                z += 1\n",
    "        if z == number_of_fragments - 1:\n",
    "            sug_long += 1\n",
    "            N_of_occ += 1\n",
    "        else:\n",
    "            if N_of_occ == 1:\n",
    "                print(\"The longest common substring of the DNA strings collection is:\")\n",
    "                print(list_of_seq[0][i - 1: i + sug_long - 2])\n",
    "                x = False\n",
    "                break\n",
    "            elif N_of_occ >1:\n",
    "                print(\"The longest common substring of the DNA strings collection is:\")\n",
    "                print(list_of_seq[0][i - N_of_occ: i + sug_long - 2])\n",
    "                x = False\n",
    "                break\n",
    "    sug_long -= 1"
   ]
  },
  {
   "cell_type": "markdown",
   "id": "1c344522-b178-4219-9f37-c686e78a94bc",
   "metadata": {},
   "source": [
    "_**Coded by:**_ **Hasan Daaboul**  \n",
    "_**Email:**_ hasandaaboul4@gmail.com"
   ]
  }
 ],
 "metadata": {
  "kernelspec": {
   "display_name": "Python 3 (ipykernel)",
   "language": "python",
   "name": "python3"
  },
  "language_info": {
   "codemirror_mode": {
    "name": "ipython",
    "version": 3
   },
   "file_extension": ".py",
   "mimetype": "text/x-python",
   "name": "python",
   "nbconvert_exporter": "python",
   "pygments_lexer": "ipython3",
   "version": "3.11.5"
  }
 },
 "nbformat": 4,
 "nbformat_minor": 5
}
