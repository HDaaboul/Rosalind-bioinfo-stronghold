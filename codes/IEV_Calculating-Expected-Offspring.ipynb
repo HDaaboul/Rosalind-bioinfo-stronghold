{
 "cells": [
  {
   "cell_type": "markdown",
   "id": "0a1d6c4c-e22e-4e17-ba63-4e1a199eec3b",
   "metadata": {},
   "source": [
    "## Calculating Expected Offspring\n",
    "### This is the twelfth problem in rosalind bioinformatics stronghold list"
   ]
  },
  {
   "cell_type": "markdown",
   "id": "29f6c9ee-4bbd-470e-88b2-2ddc7c988807",
   "metadata": {},
   "source": [
    "**_Given:_** Six nonnegative integers, each of which does not exceed 20,000. The integers correspond to the number of couples in a population possessing each genotype pairing for a given factor. In order, the six given integers represent the number of couples having the following genotypes:  \n",
    "1. AA-AA  \n",
    "2. AA-Aa  \n",
    "3. AA-aa  \n",
    "4. Aa-Aa\n",
    "5. Aa-aa\n",
    "6. aa-aa  \n",
    "\n",
    "**_Return:_** The expected number of offspring displaying the dominant phenotype in the next generation, under the assumption that every couple has exactly two offspring."
   ]
  },
  {
   "cell_type": "code",
   "execution_count": 1,
   "id": "2244eed3-bf5a-4c5a-b557-330206048bb5",
   "metadata": {},
   "outputs": [
    {
     "name": "stdout",
     "output_type": "stream",
     "text": [
      "17246 19799 18593 19107 17070 19836\n"
     ]
    }
   ],
   "source": [
    "# open the .txt file and extract data from it.\n",
    "with open(\"/Users/HASAN/Desktop/Rosalind/rosalind_iev_1_dataset.txt\") as Data_file:\n",
    "    Data = Data_file.readline().strip()\n",
    "event_1, event_2, event_3, event_4, event_5, event_6 = map(int, Data.split(\" \"))\n",
    "print(event_1, event_2, event_3, event_4, event_5, event_6)"
   ]
  },
  {
   "cell_type": "markdown",
   "id": "134f285b-d737-4585-921a-5847a379b00e",
   "metadata": {},
   "source": [
    "**The probability of produce individuals with dominant allele in these groups are:**  \n",
    "* **event_1** (homozygous dominant with homozygous dominant): probability equals 1\n",
    "* **event_2** (homozygous dominant with heterozygous): probability equals 1\n",
    "* **event_3** (homozygous dominant with homozygous recessive): probability equals 1\n",
    "* **event_4** (heterozygous with heterozygous): probability equals 0.75\n",
    "* **event_5** (heterozygous withhomozygous recessive): probability equals 0.5\n",
    "* **event_6** (homozygous recessive with homozygous recessive): probability equals 0\n",
    " "
   ]
  },
  {
   "cell_type": "code",
   "execution_count": 2,
   "id": "e2747911-0662-4297-ac80-ccc40dbe4fff",
   "metadata": {},
   "outputs": [
    {
     "name": "stdout",
     "output_type": "stream",
     "text": [
      " The expected number of offspring displaying the dominant phenotype in the next generation is: 157006.5\n"
     ]
    }
   ],
   "source": [
    "# this function will calculate the expected number of offspring displaying the dominant phenotype in the next generation\n",
    "def expected_num(events_of_prob_1_00, events_of_prob_0_75, events_of_prob_0_5):\n",
    "    total = 2 * (events_of_prob_1_00 + 0.75 * events_of_prob_0_75 + 0.5 * events_of_prob_0_5)\n",
    "    return total\n",
    "print(\" The expected number of offspring displaying the dominant phenotype in the next generation is:\", \n",
    "      expected_num(event_1+event_2+event_3, event_4, event_5))"
   ]
  },
  {
   "cell_type": "markdown",
   "id": "be653756-3dd0-46a1-bca6-419ca07a7bd8",
   "metadata": {},
   "source": [
    "_**Coded by:**_ **Hasan Daaboul**  \n",
    "_**Email:**_ hasandaaboul4@gmail.com"
   ]
  }
 ],
 "metadata": {
  "kernelspec": {
   "display_name": "Python 3 (ipykernel)",
   "language": "python",
   "name": "python3"
  },
  "language_info": {
   "codemirror_mode": {
    "name": "ipython",
    "version": 3
   },
   "file_extension": ".py",
   "mimetype": "text/x-python",
   "name": "python",
   "nbconvert_exporter": "python",
   "pygments_lexer": "ipython3",
   "version": "3.11.5"
  }
 },
 "nbformat": 4,
 "nbformat_minor": 5
}
