{
 "cells": [
  {
   "cell_type": "markdown",
   "id": "4064b919",
   "metadata": {},
   "source": [
    "## Mortal Fibonacci Rabbits\n",
    "### This is the eighteenth problem in rosalind bioinformatics stronghold list"
   ]
  },
  {
   "cell_type": "markdown",
   "id": "c95eb5f1",
   "metadata": {},
   "source": [
    "**_Given:_** Positive integers n ≤ 100 and m ≤ 20.  \n",
    "**_Return:_** The total number of pairs of rabbits that will remain after the n-th month if all rabbits live for m months."
   ]
  },
  {
   "cell_type": "markdown",
   "id": "255aad40",
   "metadata": {},
   "source": [
    "![mortal fibonacci rabbits](https://rosalind.info/media/problems/fibd/mortal_rabbit_tree.thumb.png)"
   ]
  },
  {
   "cell_type": "code",
   "execution_count": 1,
   "id": "01ab5f17",
   "metadata": {},
   "outputs": [
    {
     "name": "stdout",
     "output_type": "stream",
     "text": [
      "The age of rabbits (in months) is: 16\n",
      "The total period of experiment (in months) is: 100\n"
     ]
    }
   ],
   "source": [
    "# open the .txt file and extract data from it.\n",
    "with open(\"/Users/HASAN/Desktop/Rosalind/rosalind_fibd_2_dataset.txt\") as Data_file:\n",
    "    Data = Data_file.readline().strip()\n",
    "n, m = map(int, Data.split(\" \"))\n",
    "print(\"The age of rabbits (in months) is:\", m)\n",
    "print(\"The total period of experiment (in months) is:\", n)"
   ]
  },
  {
   "cell_type": "code",
   "execution_count": 2,
   "id": "e9ab8cc9",
   "metadata": {},
   "outputs": [
    {
     "name": "stdout",
     "output_type": "stream",
     "text": [
      "The total number of rabbits pairs that will remain after 100 months if all rabbits live for 16 months is:\n",
      "348102173637223073109\n"
     ]
    }
   ],
   "source": [
    "# the function below will calculate the total number of pairs of rabbits that will remain after the last month\n",
    "def mortal_fibo_rab(n, m):\n",
    "    num_of_pairs_per_month = [1, 1]\n",
    "    for month in range(2, n):\n",
    "        if month < m:\n",
    "            num_of_pairs_per_month.append(num_of_pairs_per_month[month - 1] + num_of_pairs_per_month[month - 2])\n",
    "        elif month == m or month == m + 1:\n",
    "            num_of_pairs_per_month.append(num_of_pairs_per_month[month-1] + num_of_pairs_per_month[month-2] - 1)\n",
    "        else:\n",
    "            num_of_pairs_per_month.append(num_of_pairs_per_month[month - 1] + num_of_pairs_per_month[month - 2]\n",
    "                                          - num_of_pairs_per_month[month - m - 1])\n",
    "    # I will return the last element of the list, which means the number of rabbits after the last month\n",
    "    return num_of_pairs_per_month[-1]\n",
    "# print the result\n",
    "print(\"The total number of rabbits pairs that will remain after {} months if all rabbits live for {} months is:\".format(n, m), \n",
    "      mortal_fibo_rab(n, m), sep='\\n')"
   ]
  },
  {
   "cell_type": "markdown",
   "id": "e8b0bac9",
   "metadata": {},
   "source": [
    "_**Coded by:**_ **Hasan Daaboul**  \n",
    "_**Email:**_ hasandaaboul4@gmail.com"
   ]
  }
 ],
 "metadata": {
  "kernelspec": {
   "display_name": "Python 3 (ipykernel)",
   "language": "python",
   "name": "python3"
  },
  "language_info": {
   "codemirror_mode": {
    "name": "ipython",
    "version": 3
   },
   "file_extension": ".py",
   "mimetype": "text/x-python",
   "name": "python",
   "nbconvert_exporter": "python",
   "pygments_lexer": "ipython3",
   "version": "3.11.5"
  }
 },
 "nbformat": 4,
 "nbformat_minor": 5
}
