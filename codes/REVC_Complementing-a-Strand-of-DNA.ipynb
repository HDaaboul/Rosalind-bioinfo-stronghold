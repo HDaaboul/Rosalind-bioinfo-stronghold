{
 "cells": [
  {
   "cell_type": "markdown",
   "id": "40a3bdab-d075-454c-aebe-e42c2af1e356",
   "metadata": {},
   "source": [
    "## Complementing a Strand of DNA\n",
    "### This is the third problem in rosalind bioinformatics stronghold list"
   ]
  },
  {
   "cell_type": "markdown",
   "id": "6339e0e8-3af6-4d3a-9943-8ef2c1269759",
   "metadata": {},
   "source": [
    "**_Given:_** A DNA string s of length at most 1000 bp.  \n",
    "**_Return:_** The reverse complement of s."
   ]
  },
  {
   "cell_type": "code",
   "execution_count": 1,
   "id": "b9d86072-dcb9-4c53-b213-a90c4eca8439",
   "metadata": {},
   "outputs": [
    {
     "name": "stdout",
     "output_type": "stream",
     "text": [
      "GCTAATACATCAATCCCACTGCGACGGAGTACCAATCTGGACAGTGCCACAAGTCGTCAACAGGCAAACCCAAATAATGTACGGGAGTGTCAAGCTGACTTGGAGTATTGCCCAGGGTAGCGGTACCAAGATATCTGTATACCCATGGATAGTAGATGGCGGGAGCACCGCTAAGTGACAAGAACCGGAGCCCTTGGCCCGGGCCTAATATCCTTCTGGTTACTATTACGTGAATTCTTGCGCTCCGGGTGTGGCACCCTCGCAGTATTGAGCGAAGGTCTCCCCACCCGTATTATAGCACCACCCGCGGGTTGAAAGCTCCTTCCGCCAAAGAACCAGATCTCAGTTTTGCGAGGGTCAGAACCATTTGCATGACAATATTCCGCAAAGTTGCACACGTTGTTCGCCTTCGCCTCGGCTGAATTCCGCAATGTTGGACAGGTGTTATCGCCCCTAAATCCATTTGTTCTCATGACCCGCTCACTCCAAAGTCTCGCCCTGCGCCTCTTTATCGATGTGTGGGGCAAGACACACGCACTGTGTTAGAAATTAATACGGCGTTCCGGGAATTCAGCGTCACGAAAAACAATTAGGTTATGGAGTTAATCGCCTGTTGAAACTTACTCACGGTGCGATTGTTGCCCCAAGCAACGTCAGGTAGGATACGACTTTAAGTGCCAGAGACGCTTGTAGGAATTGTCTGACGGGCTCTTCAGTCACGTCCGCGTCCAATGGGCTCGTATTCCTGAGATGTATAGTAACGATATATGAAATAAAGTGGCGTGGCGCAGGGAGACCTAGCACTTTTTCTTACTATCTGGATTCTA\n"
     ]
    }
   ],
   "source": [
    "# open the .txt file and extract data from it.\n",
    "with open(\"/Users/HASAN/Desktop/Rosalind/rosalind_revc_1_dataset.txt\") as Data_file:\n",
    "    Data = Data_file.readline().strip()\n",
    "print(Data)"
   ]
  },
  {
   "cell_type": "code",
   "execution_count": 2,
   "id": "41828d5d-a15f-4d48-9755-c2582c1aaf49",
   "metadata": {},
   "outputs": [],
   "source": [
    "# create the reverse complement of DNA string\n",
    "def rev_com(DNA_seq):\n",
    "    seq1 = \"ACGT\"\n",
    "    seq2 = \"TGCA\"\n",
    "    pre_comp = str.maketrans(seq1, seq2)\n",
    "    comp = DNA_seq.translate(pre_comp)\n",
    "    rev_comp = comp[:: -1]\n",
    "    return rev_comp"
   ]
  },
  {
   "cell_type": "code",
   "execution_count": 3,
   "id": "a6aafdff-b60d-4c1e-8c1a-fb01216e754e",
   "metadata": {},
   "outputs": [
    {
     "name": "stdout",
     "output_type": "stream",
     "text": [
      "TAGAATCCAGATAGTAAGAAAAAGTGCTAGGTCTCCCTGCGCCACGCCACTTTATTTCATATATCGTTACTATACATCTCAGGAATACGAGCCCATTGGACGCGGACGTGACTGAAGAGCCCGTCAGACAATTCCTACAAGCGTCTCTGGCACTTAAAGTCGTATCCTACCTGACGTTGCTTGGGGCAACAATCGCACCGTGAGTAAGTTTCAACAGGCGATTAACTCCATAACCTAATTGTTTTTCGTGACGCTGAATTCCCGGAACGCCGTATTAATTTCTAACACAGTGCGTGTGTCTTGCCCCACACATCGATAAAGAGGCGCAGGGCGAGACTTTGGAGTGAGCGGGTCATGAGAACAAATGGATTTAGGGGCGATAACACCTGTCCAACATTGCGGAATTCAGCCGAGGCGAAGGCGAACAACGTGTGCAACTTTGCGGAATATTGTCATGCAAATGGTTCTGACCCTCGCAAAACTGAGATCTGGTTCTTTGGCGGAAGGAGCTTTCAACCCGCGGGTGGTGCTATAATACGGGTGGGGAGACCTTCGCTCAATACTGCGAGGGTGCCACACCCGGAGCGCAAGAATTCACGTAATAGTAACCAGAAGGATATTAGGCCCGGGCCAAGGGCTCCGGTTCTTGTCACTTAGCGGTGCTCCCGCCATCTACTATCCATGGGTATACAGATATCTTGGTACCGCTACCCTGGGCAATACTCCAAGTCAGCTTGACACTCCCGTACATTATTTGGGTTTGCCTGTTGACGACTTGTGGCACTGTCCAGATTGGTACTCCGTCGCAGTGGGATTGATGTATTAGC\n"
     ]
    }
   ],
   "source": [
    "# print the reverse complement of the DNA sequence\n",
    "print(rev_com(Data))"
   ]
  },
  {
   "cell_type": "markdown",
   "id": "2718eee9-5021-4708-ac87-0e0a209cfadf",
   "metadata": {},
   "source": [
    "_**Coded by:**_ **Hasan Daaboul**  \n",
    "_**Email:**_ hasandaaboul4@gmail.com"
   ]
  }
 ],
 "metadata": {
  "kernelspec": {
   "display_name": "Python 3 (ipykernel)",
   "language": "python",
   "name": "python3"
  },
  "language_info": {
   "codemirror_mode": {
    "name": "ipython",
    "version": 3
   },
   "file_extension": ".py",
   "mimetype": "text/x-python",
   "name": "python",
   "nbconvert_exporter": "python",
   "pygments_lexer": "ipython3",
   "version": "3.11.5"
  }
 },
 "nbformat": 4,
 "nbformat_minor": 5
}
