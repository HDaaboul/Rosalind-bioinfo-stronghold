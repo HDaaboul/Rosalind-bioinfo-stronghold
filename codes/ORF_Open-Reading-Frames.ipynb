{
 "cells": [
  {
   "cell_type": "markdown",
   "id": "49d0e7cd-157f-4971-a61e-7a0a29e71f2c",
   "metadata": {},
   "source": [
    "## Open Reading Frames\n",
    "### This is the fourteenth problem in rosalind bioinformatics stronghold list"
   ]
  },
  {
   "cell_type": "markdown",
   "id": "62d55a8d-e39e-4781-9e7f-37efc3caf79e",
   "metadata": {},
   "source": [
    "**_Given:_** A DNA string s  of length at most 1 kbp in FASTA format.  \n",
    "**_Return:_** Every distinct candidate protein string that can be translated from ORFs of s . Strings can be returned in any order."
   ]
  },
  {
   "cell_type": "code",
   "execution_count": 1,
   "id": "5969acb0-56aa-485d-9b03-681ad0e19797",
   "metadata": {},
   "outputs": [
    {
     "name": "stdout",
     "output_type": "stream",
     "text": [
      "CTTGACAGCAGGCGCGTAGTCGTCGTACAAATTTCTGATAGAAAGTGCCGGTTTATTCCAGTGTAGATTGGCTCCATCGGTCAGGTACTGTTGCCGGCTAATAACTGTTGTTGCATATATACTCACACGAGCTTAGGACGGTGTTCGTAACCTGGCCGCGAACGACAAAACGTAACAAACCGTCTAAGACCATAGCTGGTAAGATTTACGACATGTAGCCACTGGTATACCCAAGCGGTTTATTTGTGACAGACTGACCCGTCTAAACAATAATACTCCTGGAACTACATTTGTACAGAGGGTTGGGAGCGGAATTCTCTCTGCCATCACAACCACGGTTTCATACACCCTATCGTCATTTGTTCCCCGTAATGATGATGTTGACTGTCCCTTAGTTGGCACGAGCAGGATAAATGCTGAGTGGGCGTCTTCCGAATGATGCATAGCTACTCATTATACACCCCTGAGAAATAGCTATTTCTCAGGGGTGTATAATGAGTAGCTATGCATTCAGACGCGGACCTATTTTTAACCGTACACCTCTGCTTTTCGCGGGGTCTTCATAAGTGTATCCAAGCGGCGCTTTATAAATATAGTTCACAACGACTAAAAGACCTCAAGAGCGGGTTAACAGTTGACAAGCCCCCGGAGGGTCGTAGTAACCTAACCTGCCGGCACTCTCAGGGGCCGTCGGGAGGGGGAGCGTCATTCTAGAACTACAGGGAAATAGCCATGTCATGGAGGCCGCTAGGCTCGACAGATCCCTGGTCGTCAAGGGCTCTCTAGCTTTCAGACCCGTTAGGAAGGGGGCCCCCAGAACTAGACTGCCTTACGCGGGGCAGGGGGATACAACCGAGAAATTGGGTGAGGGTCACCTGACTCCGGTTTAGTATCTAAGGAAGCAAAAATCAGGTGTATCCCTAGTTAAGGTGCGTTTGCTGTAGGACG\n"
     ]
    }
   ],
   "source": [
    "# open the .txt file and extract data from it.\n",
    "with open(\"/Users/HASAN/Desktop/Rosalind/rosalind_orf_1_dataset.txt\") as Data_file:\n",
    "    Data = Data_file.readlines()\n",
    "DNA_str = \"\"\n",
    "for line in range(1, len(Data)):\n",
    "    DNA_str += Data[line].strip()\n",
    "print(DNA_str)"
   ]
  },
  {
   "cell_type": "code",
   "execution_count": 2,
   "id": "ad67157c-4809-42dd-a4aa-8109545d7c89",
   "metadata": {},
   "outputs": [
    {
     "name": "stdout",
     "output_type": "stream",
     "text": [
      "These are the ORFs in the givven DNA sequence:\n",
      "['ATGATGCATAGCTACTCATTATACACCCCTGAGAAATAG', 'ATGCATAGCTACTCATTATACACCCCTGAGAAATAG', 'ATGCATTCAGACGCGGACCTATTTTTAACCGTACACCTCTGCTTTTCGCGGGGTCTTCATAAGTGTATCCAAGCGGCGCTTTATAAATATAGTTCACAACGACTAAAAGACCTCAAGAGCGGGTTAACAGTTGACAAGCCCCCGGAGGGTCGTAGTAACCTAACCTGCCGGCACTCTCAGGGGCCGTCGGGAGGGGGAGCGTCATTCTAG', 'ATGTCATGGAGGCCGCTAGGCTCGACAGATCCCTGGTCGTCAAGGGCTCTCTAG', 'ATGTAG', 'ATGATGATGTTGACTGTCCCTTAG', 'ATGATGTTGACTGTCCCTTAG', 'ATGTTGACTGTCCCTTAG', 'ATGCTGAGTGGGCGTCTTCCGAATGATGCATAG', 'ATGAGTAGCTATGCATTCAGACGCGGACCTATTTTTAACCGTACACCTCTGCTTTTCGCGGGGTCTTCATAA', 'ATGGAGGCCGCTAGGCTCGACAGATCCCTGGTCGTCAAGGGCTCTCTAGCTTTCAGACCCGTTAGGAAGGGGGCCCCCAGAACTAGACTGCCTTACGCGGGGCAGGGGGATACAACCGAGAAATTGGGTGAGGGTCACCTGACTCCGGTTTAG', 'ATGAAGACCCCGCGAAAAGCAGAGGTGTACGGTTAA', 'ATGCATAGCTACTCATTATACACCCCTGAGAAATAG', 'ATGCATCATTCGGAAGACGCCCACTCAGCATTTATCCTGCTCGTGCCAACTAAGGGACAGTCAACATCATCATTACGGGGAACAAATGACGATAGGGTGTATGAAACCGTGGTTGTGATGGCAGAGAGAATTCCGCTCCCAACCCTCTGTACAAATGTAGTTCCAGGAGTATTATTGTTTAGACGGGTCAGTCTGTCACAAATAAACCGCTTGGGTATACCAGTGGCTACATGTCGTAAATCTTACCAGCTATGGTCTTAG', 'ATGGCAGAGAGAATTCCGCTCCCAACCCTCTGTACAAATGTAGTTCCAGGAGTATTATTGTTTAGACGGGTCAGTCTGTCACAAATAAACCGCTTGGGTATACCAGTGGCTACATGTCGTAAATCTTACCAGCTATGGTCTTAG', 'ATGGCTATTTCCCTGTAG', 'ATGACGATAGGGTGTATGAAACCGTGGTTGTGA', 'ATGAAACCGTGGTTGTGA', 'ATGTAG', 'ATGCAACAACAGTTATTAGCCGGCAACAGTACCTGA', 'ATGACATGGCTATTTCCCTGTAGTTCTAGAATGACGCTCCCCCTCCCGACGGCCCCTGAGAGTGCCGGCAGGTTAGGTTACTACGACCCTCCGGGGGCTTGTCAACTGTTAACCCGCTCTTGA', 'ATGACGCTCCCCCTCCCGACGGCCCCTGAGAGTGCCGGCAGGTTAGGTTACTACGACCCTCCGGGGGCTTGTCAACTGTTAACCCGCTCTTGA', 'ATGAGTAGCTATGCATCATTCGGAAGACGCCCACTCAGCATTTATCCTGCTCGTGCCAACTAA', 'ATGTCGTAA', 'ATGGTCTTAGACGGTTTGTTACGTTTTGTCGTTCGCGGCCAGGTTACGAACACCGTCCTAAGCTCGTGTGAGTATATATGCAACAACAGTTATTAG']\n"
     ]
    }
   ],
   "source": [
    "# this code below will produce a list, which contains the DNA substrings that begins with start codon and ends with stop codon\n",
    "str_cod = [\"ATG\"]\n",
    "stp_cod = [\"TAG\", \"TGA\", \"TAA\"]\n",
    "seq_for_translate = list()\n",
    "# looking for ORFs in the direct strand of DNA\n",
    "for start in range(3):\n",
    "    for codon1 in range(start, len(DNA_str) - 2, 3):\n",
    "        if DNA_str[codon1: codon1+3] == str_cod[0]:\n",
    "            for codon2 in range(codon1, len(DNA_str) - 2, 3):\n",
    "                if DNA_str[codon2: codon2+3] in stp_cod:\n",
    "                    break\n",
    "            if DNA_str[codon1: codon2+3][-3:] in stp_cod:\n",
    "                seq_for_translate.append(DNA_str[codon1: codon2 + 3])\n",
    "\n",
    "# looking for ORFs in the reverse strand of DNA\n",
    "str1 = 'ACGT'\n",
    "str2 = 'TGCA'\n",
    "rev_DNA_str = DNA_str[:: -1].translate(str.maketrans(str1, str2))  # produce the reverse complement of the DNA direct strand\n",
    "for start in range(3):\n",
    "    for codon1 in range(start, len(DNA_str) - 2, 3):\n",
    "        if rev_DNA_str[codon1: codon1+3] == str_cod[0]:\n",
    "            for codon2 in range(codon1, len(DNA_str) - 2, 3):\n",
    "                if rev_DNA_str[codon2: codon2+3] in stp_cod:\n",
    "                    break\n",
    "            if rev_DNA_str[codon1: codon2+3][-3:] in stp_cod:\n",
    "                seq_for_translate.append(rev_DNA_str[codon1: codon2 + 3])\n",
    "print(\"These are the ORFs in the givven DNA sequence:\")\n",
    "print(seq_for_translate)"
   ]
  },
  {
   "cell_type": "code",
   "execution_count": 3,
   "id": "7d4448ec-ad9e-487e-a9cc-8075393cdde6",
   "metadata": {},
   "outputs": [
    {
     "name": "stdout",
     "output_type": "stream",
     "text": [
      "\n",
      "The distinct candidate protein strings that can be translated from ORFs of the given DNA string are:\n",
      "\n",
      "MTLPLPTAPESAGRLGYYDPPGACQLLTRS\n",
      "M\n",
      "MVLDGLLRFVVRGQVTNTVLSSCEYICNNSY\n",
      "MEAARLDRSLVVKGSLAFRPVRKGAPRTRLPYAGQGDTTEKLGEGHLTPV\n",
      "MQQQLLAGNST\n",
      "MSSYASFGRRPLSIYPARAN\n",
      "MSSYAFRRGPIFNRTPLLFAGSS\n",
      "MTIGCMKPWL\n",
      "MKPWL\n",
      "MHHSEDAHSAFILLVPTKGQSTSSLRGTNDDRVYETVVVMAERIPLPTLCTNVVPGVLLFRRVSLSQINRLGIPVATCRKSYQLWS\n",
      "MS\n",
      "MAERIPLPTLCTNVVPGVLLFRRVSLSQINRLGIPVATCRKSYQLWS\n",
      "MAISL\n",
      "MKTPRKAEVYG\n",
      "MMMLTVP\n",
      "MLSGRLPNDA\n",
      "MHSYSLYTPEK\n",
      "MHSDADLFLTVHLCFSRGLHKCIQAALYKYSSQRLKDLKSGLTVDKPPEGRSNLTCRHSQGPSGGGASF\n",
      "MLTVP\n",
      "MMHSYSLYTPEK\n",
      "MMLTVP\n",
      "MSWRPLGSTDPWSSRAL\n",
      "MTWLFPCSSRMTLPLPTAPESAGRLGYYDPPGACQLLTRS\n"
     ]
    }
   ],
   "source": [
    "# the code below will convert the ORFs in DNA to protein\n",
    "table = {\n",
    "    'ATA': 'I', 'ATC': 'I', 'ATT': 'I', 'ATG': 'M',\n",
    "    'ACA': 'T', 'ACC': 'T', 'ACG': 'T', 'ACT': 'T',\n",
    "    'AAC': 'N', 'AAT': 'N', 'AAA': 'K', 'AAG': 'K',\n",
    "    'AGC': 'S', 'AGT': 'S', 'AGA': 'R', 'AGG': 'R',\n",
    "    'CTA': 'L', 'CTC': 'L', 'CTG': 'L', 'CTT': 'L',\n",
    "    'CCA': 'P', 'CCC': 'P', 'CCG': 'P', 'CCT': 'P',\n",
    "    'CAC': 'H', 'CAT': 'H', 'CAA': 'Q', 'CAG': 'Q',\n",
    "    'CGA': 'R', 'CGC': 'R', 'CGG': 'R', 'CGT': 'R',\n",
    "    'GTA': 'V', 'GTC': 'V', 'GTG': 'V', 'GTT': 'V',\n",
    "    'GCA': 'A', 'GCC': 'A', 'GCG': 'A', 'GCT': 'A',\n",
    "    'GAC': 'D', 'GAT': 'D', 'GAA': 'E', 'GAG': 'E',\n",
    "    'GGA': 'G', 'GGC': 'G', 'GGG': 'G', 'GGT': 'G',\n",
    "    'TCA': 'S', 'TCC': 'S', 'TCG': 'S', 'TCT': 'S',\n",
    "    'TTC': 'F', 'TTT': 'F', 'TTA': 'L', 'TTG': 'L',\n",
    "    'TAC': 'Y', 'TAT': 'Y', 'TAA': '', 'TAG': '',\n",
    "    'TGC': 'C', 'TGT': 'C', 'TGA': '', 'TGG': 'W',\n",
    "}\n",
    "\n",
    "protein_seq = [\"\"] * len(seq_for_translate)\n",
    "\n",
    "for seq in range(len(seq_for_translate)):\n",
    "    for nuc in range(0, len(seq_for_translate[seq]) - 2, 3):\n",
    "        protein_seq[seq] += table[seq_for_translate[seq][nuc: nuc+3]]\n",
    "\n",
    "dis_protein_seq = set(protein_seq)\n",
    "print(\"\\nThe distinct candidate protein strings that can be translated from ORFs of the given DNA string are:\\n\", *dis_protein_seq, sep='\\n')"
   ]
  },
  {
   "cell_type": "markdown",
   "id": "0547043e-a1af-4e26-92e2-addfc8e83c2e",
   "metadata": {},
   "source": [
    "_**Coded by:**_ **Hasan Daaboul**  \n",
    "_**Email:**_ hasandaaboul4@gmail.com"
   ]
  }
 ],
 "metadata": {
  "kernelspec": {
   "display_name": "Python 3 (ipykernel)",
   "language": "python",
   "name": "python3"
  },
  "language_info": {
   "codemirror_mode": {
    "name": "ipython",
    "version": 3
   },
   "file_extension": ".py",
   "mimetype": "text/x-python",
   "name": "python",
   "nbconvert_exporter": "python",
   "pygments_lexer": "ipython3",
   "version": "3.11.5"
  }
 },
 "nbformat": 4,
 "nbformat_minor": 5
}
