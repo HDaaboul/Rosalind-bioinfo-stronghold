{
 "cells": [
  {
   "cell_type": "markdown",
   "id": "bfb60ac7-0ef8-4d51-81ad-284016d52fae",
   "metadata": {},
   "source": [
    "## Transcribing DNA into RNA\n",
    "### This is the second problem in rosalind bioinformatics stronghold list view"
   ]
  },
  {
   "cell_type": "markdown",
   "id": "3a6f058e-2cde-4ce1-8686-994da9526c39",
   "metadata": {},
   "source": [
    "**_Given:_** A DNA string t having length at most 1000 nt.  \n",
    "**_Return:_** The transcribed RNA string of t."
   ]
  },
  {
   "cell_type": "code",
   "execution_count": 1,
   "id": "840ea24d-e703-4785-8439-16a9dbba26f6",
   "metadata": {},
   "outputs": [
    {
     "name": "stdout",
     "output_type": "stream",
     "text": [
      "ATGAGGATTTGCGCCTCTCTCGTCAGATTAGAAACGCAATCAATCATGATGATCGGCTAGGCCCGGCGCCCCACTGACGCTTGCAGTACAGTGTAACATCGTTATACGAGGTGAGGCATTTAATGAATTCTCTGCTGCCCTGTCTATGTGGTGCTCGACCCGATCTAGAGCCTATGTAGGTAAGAAGAAAGGTGCTGTAGGAGGTCGGATCGATGTCGAGAAAAAGCAAGACACACATGTTCGTCCTACACAAACCCACACTGGCGGATAACCAGGACAGATAATTGCATCGATAAGTTGATGACTTCAAATTAAAAAATGTAACGGGGATGATCAGGCAGGACCATGCATCAATCTGCCCCGCAATAGCCCTAAAAGAGTGTCAAGCATGTCGTCAGATCGCTTTACGCTCCGGGGCTAAAGAGCATTCCATTTACTGAGTTGAGATCCATCTCGTCCTGCTTTCTTATAACTGCCGACGGCATGAGTTGCCACGGGGGCTGTGCTGATCTGCCCACTAACTCTATTGATGAGCATTCGGAGAATTGGGTCCCCCTCACCGGGCCGTCAGAGGGTCCTGAAGTACGCTGCCGAGTACGGGTGATTACGAAGTATGCTTGAACGGTCGACCCAGTTCACCTCGCGAACTAACGACGCACATCATCGTCCATGGGAAACCAGGGAGTAGCCCAGCGACTTTGGTAATCTCTCTGAAGAGACAGGATGGTTAAAACGCATAACGCACCCTGTGGGGCTCGGGCCAAAACAAAAACAGTATTCTGCGCGTATTTATGCACTCCGATGGACATTAGATACCGAAATATCTTTCGATGCTAAAGACTGAGCTGACCCGTAGTCCCTGCTGCAAAAGATGCATTCGTCGTGACACCGAAGGCAGACTCCACGATCAGTGCAAATTTTAAAAAGCCTCGCCGTTTTTGGGTATCTCGTC\n"
     ]
    }
   ],
   "source": [
    "# open the .txt file and extract data from it.\n",
    "with open(\"/Users/HASAN/Desktop/Rosalind/rosalind_rna_1_dataset.txt\") as Data_file:\n",
    "    Data = Data_file.readline().strip()\n",
    "print(Data)"
   ]
  },
  {
   "cell_type": "markdown",
   "id": "d288c96f-cd1a-462a-b403-1bd7fc8c68a2",
   "metadata": {},
   "source": [
    "**This code will simply convert every T letter to U letter** "
   ]
  },
  {
   "cell_type": "code",
   "execution_count": 2,
   "id": "3c0bc131-63db-45eb-8ec3-3f87ec682735",
   "metadata": {},
   "outputs": [],
   "source": [
    "# tnscribing DNA into RNA\n",
    "def DNA2RNA(DNA_seq):\n",
    "    RNA = \"\"\n",
    "    for nuc in DNA_seq:\n",
    "        if nuc.upper() == \"T\":\n",
    "            RNA += \"U\"\n",
    "        else:\n",
    "            RNA += nuc\n",
    "    return RNA"
   ]
  },
  {
   "cell_type": "code",
   "execution_count": 3,
   "id": "979e2caf-ca80-4eff-b69d-4a851ea0dee1",
   "metadata": {},
   "outputs": [
    {
     "name": "stdout",
     "output_type": "stream",
     "text": [
      "AUGAGGAUUUGCGCCUCUCUCGUCAGAUUAGAAACGCAAUCAAUCAUGAUGAUCGGCUAGGCCCGGCGCCCCACUGACGCUUGCAGUACAGUGUAACAUCGUUAUACGAGGUGAGGCAUUUAAUGAAUUCUCUGCUGCCCUGUCUAUGUGGUGCUCGACCCGAUCUAGAGCCUAUGUAGGUAAGAAGAAAGGUGCUGUAGGAGGUCGGAUCGAUGUCGAGAAAAAGCAAGACACACAUGUUCGUCCUACACAAACCCACACUGGCGGAUAACCAGGACAGAUAAUUGCAUCGAUAAGUUGAUGACUUCAAAUUAAAAAAUGUAACGGGGAUGAUCAGGCAGGACCAUGCAUCAAUCUGCCCCGCAAUAGCCCUAAAAGAGUGUCAAGCAUGUCGUCAGAUCGCUUUACGCUCCGGGGCUAAAGAGCAUUCCAUUUACUGAGUUGAGAUCCAUCUCGUCCUGCUUUCUUAUAACUGCCGACGGCAUGAGUUGCCACGGGGGCUGUGCUGAUCUGCCCACUAACUCUAUUGAUGAGCAUUCGGAGAAUUGGGUCCCCCUCACCGGGCCGUCAGAGGGUCCUGAAGUACGCUGCCGAGUACGGGUGAUUACGAAGUAUGCUUGAACGGUCGACCCAGUUCACCUCGCGAACUAACGACGCACAUCAUCGUCCAUGGGAAACCAGGGAGUAGCCCAGCGACUUUGGUAAUCUCUCUGAAGAGACAGGAUGGUUAAAACGCAUAACGCACCCUGUGGGGCUCGGGCCAAAACAAAAACAGUAUUCUGCGCGUAUUUAUGCACUCCGAUGGACAUUAGAUACCGAAAUAUCUUUCGAUGCUAAAGACUGAGCUGACCCGUAGUCCCUGCUGCAAAAGAUGCAUUCGUCGUGACACCGAAGGCAGACUCCACGAUCAGUGCAAAUUUUAAAAAGCCUCGCCGUUUUUGGGUAUCUCGUC\n"
     ]
    }
   ],
   "source": [
    "print(DNA2RNA(Data))"
   ]
  },
  {
   "cell_type": "markdown",
   "id": "c4c7c069-21d3-420e-a719-cd2d86cc1fd3",
   "metadata": {},
   "source": [
    "_**Coded by:**_ **Hasan Daaboul**  \n",
    "_**Email:**_ hasandaaboul4@gmail.com"
   ]
  }
 ],
 "metadata": {
  "kernelspec": {
   "display_name": "Python 3 (ipykernel)",
   "language": "python",
   "name": "python3"
  },
  "language_info": {
   "codemirror_mode": {
    "name": "ipython",
    "version": 3
   },
   "file_extension": ".py",
   "mimetype": "text/x-python",
   "name": "python",
   "nbconvert_exporter": "python",
   "pygments_lexer": "ipython3",
   "version": "3.11.5"
  }
 },
 "nbformat": 4,
 "nbformat_minor": 5
}
