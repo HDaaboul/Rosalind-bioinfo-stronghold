{
 "cells": [
  {
   "cell_type": "markdown",
   "id": "a654179b-ed6e-4f03-950c-b56ee8deb673",
   "metadata": {},
   "source": [
    "## Rabbits and Recurrence Relations\n",
    "### This is the fourth problem in rosalind bioinformatics stronghold list"
   ]
  },
  {
   "cell_type": "markdown",
   "id": "381445a4-58a8-414f-b469-c4ad69765b8f",
   "metadata": {},
   "source": [
    "**_Given:_** Positive integers n≤40 and k≤5.  \n",
    "**_Return:_** The total number of rabbit pairs that will be present after n months, if we begin with 1 pair and in each generation, every pair of reproduction-age rabbits produces a litter of k rabbit pairs (instead of only 1 pair)."
   ]
  },
  {
   "cell_type": "code",
   "execution_count": 1,
   "id": "f20f8d1b-199c-408d-a00b-57f4c1b3c021",
   "metadata": {},
   "outputs": [
    {
     "name": "stdout",
     "output_type": "stream",
     "text": [
      "35 4\n"
     ]
    }
   ],
   "source": [
    "# open the .txt file and extract data from it.\n",
    "with open(\"/Users/HASAN/Desktop/Rosalind/rosalind_fib_1_dataset.txt\") as Data_file:\n",
    "    Data = list(map(int, Data_file.readline().strip().split(\" \")))\n",
    "n = int(Data[0])  # n is the number of months\n",
    "k = int(Data[1])  # k is the number of rabbit pairs produced by each rabbit pair\n",
    "print(n, k)"
   ]
  },
  {
   "cell_type": "code",
   "execution_count": 2,
   "id": "5b2bb308-12f1-48d4-b5c2-3d799a530293",
   "metadata": {},
   "outputs": [],
   "source": [
    "# calculate the total number of rabbit pairs after n months\n",
    "def FIBO_rab(n, k):\n",
    "    num_of_pairs_per_month = [1, 1]\n",
    "    for month in range(n - 2):\n",
    "        num_of_pairs_per_month.append(num_of_pairs_per_month[month + 1] + k * num_of_pairs_per_month[month])\n",
    "        # what we care about in this problem is the total number of rabbit pairs so we take the last number in the list\n",
    "    return num_of_pairs_per_month[-1]  "
   ]
  },
  {
   "cell_type": "code",
   "execution_count": 3,
   "id": "8da68591-af79-43fd-bab0-a509c98f8af7",
   "metadata": {},
   "outputs": [
    {
     "name": "stdout",
     "output_type": "stream",
     "text": [
      "The total number of rabbit pairs after n months is: 48127306357829\n"
     ]
    }
   ],
   "source": [
    "print(\"The total number of rabbit pairs after n months is:\", FIBO_rab(n, k))"
   ]
  },
  {
   "cell_type": "markdown",
   "id": "6ecf1be3-d3e4-46e3-ae8f-7c7e28535c59",
   "metadata": {},
   "source": [
    "_**Coded by:**_ **Hasan Daaboul**  \n",
    "_**Email:**_ hasandaaboul4@gmail.com"
   ]
  }
 ],
 "metadata": {
  "kernelspec": {
   "display_name": "Python 3 (ipykernel)",
   "language": "python",
   "name": "python3"
  },
  "language_info": {
   "codemirror_mode": {
    "name": "ipython",
    "version": 3
   },
   "file_extension": ".py",
   "mimetype": "text/x-python",
   "name": "python",
   "nbconvert_exporter": "python",
   "pygments_lexer": "ipython3",
   "version": "3.11.5"
  }
 },
 "nbformat": 4,
 "nbformat_minor": 5
}
