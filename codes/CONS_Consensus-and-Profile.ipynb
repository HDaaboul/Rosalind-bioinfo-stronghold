{
 "cells": [
  {
   "cell_type": "markdown",
   "id": "a5b81164-2ecd-4a78-b610-aafa07b3adba",
   "metadata": {},
   "source": [
    "## Consensus and Profile\n",
    "### This is the tenth problem in rosalind bioinformatics stronghold list"
   ]
  },
  {
   "cell_type": "markdown",
   "id": "023e6dce-6612-4a14-a680-72f703ebaa71",
   "metadata": {},
   "source": [
    "**_Given:_** A collection of at most 10 DNA strings of equal length (at most 1 kbp) in FASTA format.  \n",
    "**_Return:_** A consensus string and profile matrix for the collection. If several possible consensus strings exist, then you may return any one of them."
   ]
  },
  {
   "cell_type": "code",
   "execution_count": 1,
   "id": "7046b119-c3eb-4bf2-b2bf-ba126d03b6ef",
   "metadata": {},
   "outputs": [
    {
     "name": "stdout",
     "output_type": "stream",
     "text": [
      "The number of DNA fragments is: 10\n",
      "The length of each DNA fragment is: 903 bp\n",
      "ATGACTTAACAATGCGTTTTATAAGTAGGTGGTCACCATTAGGTAAGTATCACTTTTGCTTTCACCGGAAACGGGGTATTGGCTCTCAGGATGCCGGGGTGATATTGCTTGGAACGGTACGTCCCAATACTAAGCTGAACGTTTATTGTGATCACTCCAAATCCGTCAATTGTTAGACTTAGCCTGTATAAGATACAGAAAGGTGACCGGCCCCTAAGCGCAGGAGCTAGTGCTGAACCGCTAAGAACTACAGGACTGCACACTTCCGGGGCTATCTCTAGCGAGGTTGCTAACCGGCAGCTTCAGCATCCCTAGTTCAATTCGGTAGGACATATTTGTAAGAGCATTATCTCGGACAACCTCCTGTATCTATAGGCAAGCTAGTGCGTTGTAGCATCTGAATTCAAGTAAACAATAGGGTTAAAACCTTACTACTAGCGTGGAACAGGGACCCCAAATCGACATTTGTTATCAGGGGATCCCAAACGTGAGTCCAGCATCTAAGGCCCGGACTCTGCCCCGATAATCCACGATTCTGGTATTTGTCAAGGACTATAAGATTAATATCGAACCCTCTAGCATGAGTCTTCTTCCACCGCGAAGCACCGACCTATCGCTTGGGGCTTACCGCACTGGAGTCGCACTGGATGCTCGCAGGGACCTAACTGGGCGATCAAGCGGAACGACCTGGAAAGAACCACTCTCCCTGGGATACCACACGCTGAGTATTATCACTTTCGGAGGCGAGCGCTTGACCTGACAGGACCATGTACCGGTGGGTTTTGATCACGGGATAAAGCTTTAAATCACGGGTCGCCGTGAGAAGTCTTGTCTGGTGAAAGAGGTGCGGCCGCCTGCGTGTCATGTGATCTATCAAGTAGTGGATGGGGGATGATGGCGATC\n",
      "GGGACTCGTGAAGGTTTAGCTCTGAGCGCACCCCGGCGGACCAGCCTACGACAAGTCAGTCTCATTCCAATTCGAGCCCTTCTAACGATTCAGATAGCCAACTCGTTAGTTCGAGTGCAAACGAACTGGCAGATCCTAATGTGAGTTCGCTGTAGCTTCCTGGAAACCGAATCGTGCGCGAAATTCTACAACCGTTTCGAAGAGGTATTAAATGGCACAACAATGTTACAGCCGTGACATTGTAATTCGGCCAATCTTGTGCTGGGCAAAGAGGCTGACGAGCCTGGGAGTTCAAACCGGGCGCCGCAACCATGCTGAATATGTGTCGCAGATAGGCTCCATTTCGGAAACCCATTGCATTACCTGAATCTTCTCGGCGCGATTCCTGATCCGGATGTCTGACGCTGACGGGAGATATATTTTACTAATAGAGACAACCCTAGGTTTCGGCCTGACTGACATGAATACACGCGGTACGCCTCGGTTTATATTAGTCCATGACTGCGCCGGTCGCAGGTCTTTTCAGGCCAAAACGTATTATGGAGGTCTGAGCAGAACTGCCCCCCCTTATTGGCTGTGCTAATTCTAAAGGTGTCGATGCTACCTCTCAGTTTAAGGGCCAAGCGCAACAGAGTGTTCCGGCTCGGGGGCGCAGGAGGGGCTCCGATGTCATCATGGCAGCTAGAGTTGGACTTGTAAAGGTCAACTGGCGTGGCGTGCCAACCGGGTCCCTGCCCCTACTCTTCACCACCACATGTCAATAAACTATAGTATGAGACACTGGCCTGGTCCGGCGACGCGTTCCTATACGAAGTGGAGCGCCACCCGATTTGTCCGGTGTCTAATGGCCGTCCTTGCATTCACTGTATTCTCCCTCTGGTTCGGGACGACTCCAGAAAGATC\n"
     ]
    }
   ],
   "source": [
    "# open the .txt file and extract data from it.\n",
    "with open(\"/Users/HASAN/Desktop/Rosalind/rosalind_cons_2_dataset.txt\") as Data_file:\n",
    "    Data = Data_file.readlines()\n",
    "# format the FASTA data in a tidy and readable form (I chose to format them in a dictionary in this case)\n",
    "num_of_fragment = -1\n",
    "list_of_fragments = list()\n",
    "for line in range(len(Data)):\n",
    "    if Data[line].startswith(\">\"):\n",
    "        num_of_fragment += 1\n",
    "        list_of_fragments.append(\"\")\n",
    "    else:\n",
    "        list_of_fragments[num_of_fragment] += Data[line].strip()\n",
    "num_of_fragments = len(list_of_fragments)\n",
    "frag_length = len(list_of_fragments[0])\n",
    "# now I will print the number of fragments, the lenght of any DNA fragments and the first 2 fragments of the Dataset to show how it becomes\n",
    "print(\"The number of DNA fragments is: {}\".format(num_of_fragments), \"The length of each DNA fragment is: {} bp\".format(frag_length),\n",
    "      *list_of_fragments[: 2], sep=\"\\n\")"
   ]
  },
  {
   "cell_type": "code",
   "execution_count": 2,
   "id": "668c01b8-104f-4b65-8010-94cc7919e0f8",
   "metadata": {},
   "outputs": [
    {
     "name": "stdout",
     "output_type": "stream",
     "text": [
      "The consensus DNA sequence is:\n",
      "ACGCCCACGCAATCCAGAATACGCATTGAGAGGCGATGCCACCCGCATCCTAAAATCGGTCTCAAGTCCATCCCAGCCTTAATAACGAGGCATTTTCACAGCTAGAGCCTCGGCCCCCTACTAACACGACTGAGGCTAACGGGAAACCGACGCACCTTACATCAAACGACCTCACGTCCTAACCTCTACAACAGCAAACCAAATGAGACCATTGGCAACTTAGAAAAACACCAAGGACCCTTACGATTGCCCCGACTGCATACATGCAGATGAACTTATGACGACGGCTGATCAAAACAGGCACTGAATCACTGGGCCAAATCAGGCACTCATAGTCTAAATCTCGTAAGACCGAGCAATCTCCTGAATCCTTAGGAACCCCATTGCGTTGAACATTCAAAAATCCACGAAGGGAAACTCTATATCGCTAAAGAGAACGGTGAATTTCGGCCTCCAAGACAAAAACATACGCGGTTCACCCCCCAACCAATGGACAAATGATTCCGATAGGCGCAGGCCTAGTTACGCCAAGCAATTCTGAGCAGCCAGTAAAAGCAATCCGCACAACCACAGCTTGAGCCAAAGCAAACGATACCCAAGATAAATCATAGGCGCGTGTTCCAGCACCACAACTGGTGCCCCCGTACAGGTGCGAGAGCCACTTCAGGGTCGAGAAGGAAGAACGACAGCAAGTTAAAAACGGCAAACGACGTGGTACACCCCGAGCACTACCACTGGTGCAGATGAGCACAACACCTTAGCGCACTATGAACTGACACAAAAGGGTCACGAGATAAACCAGTAAGTAGAGCACAATAACGTGAAACAATAAGTAGTGCAATCAATCCCTAAAACTGCAGTTAAAGTAAGCCTTCTATCAGTAGATCCGAGACGTGAGAGGAC\n",
      "\n",
      "The profile matrix for this collection of DNA fragments is:\n",
      "A: 4 2 3 3 2 2 5 1 2 2 5 4 1 0 1 5 1 3 5 0 3 0 2 3 6 2 2 1 3 3 3 3 1 2 2 3 1 2 1 2 4 1 2 2 2 2 3 2 2 2 2 5 4 4 3 1 2 4 3 0 0 0 2 5 3 0 2 0 3 5 2 3 1 2 4 2 2 3 1 2 3 4 1 4 3 0 3 6 1 2 3 5 1 2 0 1 1 4 3 4 1 2 1 4 2 3 1 3 1 2 2 0 2 2 0 1 3 1 2 3 1 2 3 4 3 3 2 1 3 0 1 2 4 1 2 2 2 5 3 2 0 2 0 3 3 4 2 1 1 4 2 2 2 5 1 1 2 1 3 3 4 2 0 6 4 4 2 2 3 3 2 2 2 3 2 1 2 2 1 1 6 3 1 1 2 1 3 7 2 4 6 2 4 2 1 3 3 4 3 2 5 3 4 1 2 4 3 4 1 2 5 1 1 0 2 2 3 3 1 1 0 8 1 3 4 3 3 5 3 4 0 2 3 5 1 2 4 2 1 0 2 2 4 3 3 3 1 1 2 2 2 1 1 3 4 2 1 2 1 3 1 3 2 3 3 2 3 4 1 3 2 1 3 4 2 4 1 4 2 4 3 1 2 3 2 3 1 2 1 1 3 1 3 4 4 4 3 0 3 3 1 2 3 3 3 0 3 4 2 0 3 3 2 2 1 1 0 1 4 3 5 1 3 4 3 1 2 4 3 4 0 5 2 3 2 2 1 2 3 4 6 1 2 1 1 4 2 4 4 2 4 0 0 2 4 3 0 5 4 2 0 1 2 3 3 1 4 4 2 2 1 2 1 3 2 2 3 3 2 1 2 3 3 1 2 2 2 1 3 2 2 4 4 2 4 3 3 2 4 3 4 4 3 2 3 2 3 2 2 4 5 2 2 2 4 5 7 0 3 1 2 3 2 5 1 2 2 3 2 3 5 3 0 4 1 3 3 1 1 0 2 2 4 5 4 3 3 2 1 1 1 2 2 1 2 3 5 2 6 2 4 4 4 4 4 1 3 1 4 3 3 2 1 3 1 2 0 3 4 2 1 2 2 2 3 3 1 3 5 3 4 1 2 4 2 4 4 3 3 1 4 2 3 2 2 2 4 2 3 0 0 2 1 1 3 3 2 3 3 1 3 1 3 1 5 1 2 1 2 4 5 1 3 5 3 1 1 0 2 2 3 1 1 3 3 2 1 6 1 1 3 4 4 5 2 2 4 4 2 3 2 1 2 4 2 3 5 1 2 3 2 5 1 1 2 3 0 3 3 2 2 4 5 4 3 1 4 4 4 2 3 4 3 3 3 2 1 4 3 3 5 1 4 4 4 2 2 3 2 5 1 2 1 2 2 2 2 2 4 1 2 2 4 0 0 4 2 2 4 1 4 5 3 1 0 0 3 1 3 2 1 2 3 2 1 3 1 3 3 2 2 1 1 3 3 3 4 2 1 2 4 3 2 2 2 4 2 3 1 1 1 1 5 1 3 5 2 0 5 5 2 4 4 2 2 5 1 3 1 2 3 6 1 1 2 4 4 4 4 5 2 2 2 1 3 6 4 3 3 4 2 3 1 2 0 0 4 1 4 2 2 2 2 0 5 1 1 4 2 2 4 1 2 4 4 3 2 1 2 2 1 3 1 4 1 3 4 1 1 4 1 5 3 1 4 1 2 2 1 5 2 1 1 2 3 1 2 4 2 3 4 5 3 1 1 4 1 5 1 4 3 4 3 2 1 3 4 0 4 1 3 3 3 3 2 5 5 4 2 0 3 1 1 5 3 2 3 3 3 5 2 1 5 1 5 3 1 5 4 2 2 1 1 3 5 5 2 3 3 3 3 3 1 2 3 3 3 1 2 4 3 2 2 4 4 2 1 1 1 0 4 3 4 4 1 1 2 2 3 2 2 2 3 3 3 3 2 3 4 2 2 0 3 1 1 3 4 1 1 4 2 1 4 2 3 2 2 2 3 4 3 4 2 1 3 2 3 3 5 1 2 4 1\n",
      "C: 2 4 3 4 6 3 2 6 0 5 3 2 1 5 5 1 1 2 1 3 2 5 2 5 0 3 3 3 2 1 3 1 2 3 0 2 4 2 3 3 2 4 3 4 3 3 3 2 4 3 1 3 2 0 3 3 3 1 2 2 6 1 5 3 2 2 1 4 4 1 2 5 7 4 2 3 3 4 3 2 1 1 3 1 2 5 2 1 1 2 4 2 2 2 2 0 4 2 4 0 1 4 3 2 2 3 1 5 4 1 4 1 2 4 4 3 4 4 2 2 3 2 3 1 5 3 4 3 1 6 0 2 2 1 2 4 2 4 2 3 4 2 2 3 1 1 3 4 2 1 4 1 4 0 5 4 2 2 3 4 0 2 5 1 1 1 3 2 3 4 3 2 4 2 4 3 1 3 3 3 1 3 4 4 1 4 1 2 3 3 4 5 2 2 4 3 2 1 4 4 1 2 3 1 2 2 2 2 5 5 4 2 3 3 1 4 3 1 5 1 3 0 1 2 3 2 3 2 5 2 4 4 3 0 2 3 1 4 5 4 2 2 1 4 2 2 2 4 3 3 6 3 4 0 0 4 2 2 5 3 2 1 3 2 0 2 5 3 1 3 2 1 3 1 4 1 1 2 3 1 1 5 2 3 3 0 1 3 2 2 1 4 4 2 4 2 3 5 3 2 2 4 3 4 3 2 3 2 3 6 3 5 1 1 3 0 4 4 2 3 1 2 4 0 2 2 5 2 4 1 5 1 1 3 2 1 4 3 2 2 2 2 3 2 4 1 2 1 1 2 4 6 7 2 1 2 5 2 2 2 5 3 3 5 1 1 3 3 1 4 4 2 2 3 2 3 2 3 3 4 3 4 2 3 1 1 4 2 1 2 2 3 2 3 2 1 1 4 2 1 2 3 3 1 5 3 3 3 1 2 0 1 2 2 1 0 1 4 1 4 1 3 1 1 3 4 2 5 0 3 1 2 3 1 3 3 3 3 3 2 1 3 2 1 1 1 1 4 3 0 5 4 3 5 5 3 1 2 1 5 1 1 2 0 4 5 1 3 0 4 2 5 3 0 2 2 4 2 5 3 4 5 4 4 3 2 6 4 2 2 0 1 1 4 4 2 2 3 2 3 3 1 0 6 5 3 2 3 3 2 3 3 2 4 3 0 3 4 4 4 3 1 0 3 1 4 2 5 4 2 3 1 4 4 2 2 3 4 3 1 3 1 4 2 2 5 5 2 1 1 2 2 4 2 2 3 1 3 0 4 3 3 4 4 3 1 1 5 3 2 3 2 3 4 2 2 3 2 2 3 3 2 1 1 1 5 3 0 1 5 1 2 2 2 4 5 3 2 2 1 3 3 0 3 3 2 4 3 3 3 3 2 4 2 3 2 3 0 0 3 4 5 0 2 4 1 3 5 2 5 3 2 6 2 2 3 0 2 4 4 4 6 4 2 1 3 4 3 1 2 3 1 6 3 3 1 2 2 4 3 3 5 0 2 3 1 1 1 3 3 4 3 2 2 2 2 0 1 3 2 3 2 1 4 3 0 3 3 2 3 3 2 3 0 1 3 1 4 4 1 3 2 1 4 3 3 3 4 2 3 4 0 3 1 1 3 3 4 3 3 3 6 4 3 3 1 3 1 4 2 4 4 6 1 5 2 2 2 3 3 4 3 4 2 3 3 0 3 4 1 5 2 1 5 1 4 3 2 3 1 2 4 2 4 3 5 2 3 1 1 1 0 4 3 2 3 3 1 6 0 1 1 2 1 2 1 1 5 2 4 1 1 0 3 2 2 2 4 3 5 2 2 2 1 3 2 3 2 1 2 0 4 1 4 3 1 3 3 2 4 2 2 2 2 2 3 3 3 3 1 2 3 3 1 3 1 1 1 5 2 2 2 5 2 3 3 3 4 4 3 2 3 1 4 3 3 2 4 3 2 1 3 2 2 2 1 2 3 1 2 3 5 2 1 5 2 1 3 3 2 1 2 3 2 2 1 3 3 1 1 1 1 4 2 0 1 2 1 1 2 3 1 3\n",
      "G: 2 2 4 2 0 2 2 2 7 3 1 2 2 4 1 1 4 2 3 3 2 2 4 2 2 1 1 5 2 4 2 5 4 3 5 2 0 3 3 2 2 2 2 2 4 2 2 2 4 2 2 1 1 2 2 2 3 5 4 2 2 2 1 0 3 4 3 4 3 2 2 1 1 3 2 5 2 0 2 2 3 2 1 1 3 3 4 2 6 3 2 1 3 2 2 3 4 2 3 3 4 1 2 1 4 2 5 1 2 2 1 5 4 2 3 3 2 1 1 3 3 1 3 3 2 2 1 5 3 4 3 4 3 4 3 2 2 1 3 3 5 3 5 1 3 1 2 4 4 2 1 5 2 2 3 3 1 2 2 3 3 2 4 3 1 3 3 3 1 2 2 2 2 3 2 4 3 2 3 2 2 1 1 2 3 2 1 1 2 1 0 3 2 5 2 2 3 4 2 3 3 3 2 1 3 1 4 2 1 1 0 3 2 4 5 1 2 3 3 2 0 0 4 2 2 2 2 1 1 1 3 2 2 1 4 4 2 4 3 4 2 2 1 3 4 2 2 0 4 2 0 3 3 4 3 4 3 4 4 2 3 3 2 2 3 3 1 3 5 2 2 5 2 3 1 0 3 2 0 5 3 3 3 3 3 4 6 2 2 4 3 0 2 4 2 3 3 2 1 4 6 2 3 0 0 6 1 1 0 2 1 1 1 6 4 6 3 2 3 2 1 2 1 2 4 4 1 4 3 0 3 1 2 3 5 3 1 1 3 3 1 2 2 3 3 5 2 3 3 3 2 2 3 6 1 4 3 1 3 1 0 0 3 0 2 5 1 2 2 2 1 2 3 2 3 5 3 3 3 4 3 0 2 1 3 5 2 5 2 2 5 1 4 3 4 1 2 1 1 3 3 1 1 3 1 3 1 2 5 3 3 4 4 3 2 0 1 4 2 3 3 1 2 3 2 2 3 2 1 1 4 2 4 3 4 2 1 3 4 5 3 4 3 3 0 1 2 2 5 5 1 1 1 2 1 1 1 4 1 0 1 3 4 3 0 0 3 2 2 2 4 1 4 4 2 2 3 2 1 3 1 1 3 4 1 3 1 3 0 2 0 6 4 1 0 2 2 3 0 4 1 3 3 2 1 5 1 0 3 5 5 3 5 3 1 4 4 1 1 0 2 4 3 1 2 3 5 1 0 4 1 4 3 0 2 3 2 3 1 4 1 5 1 2 5 2 2 0 4 3 3 3 1 2 3 2 2 2 3 2 2 4 1 1 2 3 2 1 2 3 2 1 4 4 1 1 4 3 4 3 2 1 1 4 4 2 0 2 3 1 5 3 1 3 2 0 3 3 3 4 1 2 3 2 2 2 1 2 1 0 4 4 1 3 3 4 1 5 1 2 2 1 4 5 2 3 3 1 4 2 1 2 0 3 6 5 2 4 1 3 4 2 1 4 3 3 3 3 4 4 0 4 1 4 2 4 1 3 4 3 1 1 0 2 2 3 5 4 4 2 1 5 1 6 3 2 5 5 1 1 4 1 1 1 4 1 3 3 4 3 2 1 4 4 3 1 3 1 1 1 2 4 4 3 2 0 1 1 4 3 1 4 1 5 7 3 2 2 1 2 3 1 2 6 1 4 3 2 2 2 0 3 0 3 0 1 3 6 1 4 3 1 5 2 1 4 3 4 1 3 1 0 3 2 1 3 3 0 2 1 4 1 5 3 3 3 1 2 3 5 2 2 0 2 6 2 3 2 2 3 3 1 2 4 7 5 0 4 2 4 6 3 5 3 2 1 2 0 3 3 2 4 3 2 3 4 0 2 4 2 6 2 2 3 1 3 2 1 4 2 3 2 4 3 1 1 3 3 1 2 2 1 4 2 3 4 2 7 2 1 3 2 0 3 2 0 3 2 4 3 4 1 3 1 3 2 3 1 2 3 3 0 2 3 3 4 2 3 3 3 2 1 1 3 2 1 3 2 3 2 4 2 1 5 3 1 2 3 5 2 5 4 1 4 3 5 3 6 1 4 5 2 3\n",
      "T: 2 2 0 1 2 3 1 1 1 0 1 2 6 1 3 3 4 3 1 4 3 3 2 0 2 4 4 1 3 2 2 1 3 2 3 3 5 3 3 3 2 3 3 2 1 3 2 4 0 3 5 1 3 4 2 4 2 0 1 6 2 7 2 2 2 4 4 2 0 2 4 1 1 1 2 0 3 3 4 4 3 3 5 4 2 2 1 1 2 3 1 2 4 4 6 6 1 2 0 3 4 3 4 3 2 2 3 1 3 5 3 4 2 2 3 3 1 4 5 2 3 5 1 2 0 2 3 1 3 0 6 2 1 4 3 2 4 0 2 2 1 3 3 3 3 4 3 1 3 3 3 2 2 3 1 2 5 5 2 0 3 4 1 0 4 2 2 3 3 1 3 4 2 2 2 2 4 3 3 4 1 3 4 3 4 3 5 0 3 2 0 0 2 1 3 2 2 1 1 1 1 2 1 7 3 3 1 2 3 2 1 4 4 3 2 3 2 3 1 6 7 2 4 3 1 3 2 2 1 3 3 2 2 4 3 1 3 0 1 2 4 4 4 0 1 3 5 5 1 3 2 3 2 3 3 0 4 2 0 2 4 3 3 3 4 3 1 0 3 2 4 3 2 2 3 5 5 2 5 0 3 1 3 1 2 3 2 3 5 3 3 5 1 0 0 1 1 3 3 1 1 2 1 3 4 2 3 3 5 2 3 1 6 1 2 3 3 3 1 2 3 5 2 4 1 3 2 0 0 5 2 3 5 1 1 4 4 4 2 1 1 5 3 4 2 0 4 2 2 3 0 2 0 0 4 1 2 2 1 5 5 6 2 2 4 3 2 1 5 2 4 4 4 2 3 0 2 1 2 1 2 3 3 5 4 2 2 2 4 4 1 2 0 2 0 5 4 3 3 3 1 2 3 4 1 2 3 3 2 1 2 3 2 3 3 5 1 2 4 2 4 3 5 1 4 2 3 0 7 3 0 3 3 2 2 2 3 3 2 3 4 1 1 1 5 5 4 2 1 4 3 3 4 2 2 3 3 2 2 3 4 2 0 3 2 4 3 4 4 1 1 2 2 3 5 4 3 3 0 2 4 2 1 0 3 2 2 0 3 3 6 2 3 1 4 2 2 1 5 2 2 4 4 0 2 0 3 5 1 3 2 2 2 2 3 3 1 2 2 5 2 4 4 5 2 2 1 3 4 0 1 4 0 1 3 4 4 3 4 3 3 3 4 3 0 1 2 2 4 5 2 1 1 1 3 3 3 1 5 1 3 2 3 1 3 3 2 3 3 2 3 2 2 1 5 4 3 2 1 2 3 3 3 1 2 2 3 4 2 2 1 1 4 2 1 3 3 1 2 2 1 4 3 1 1 4 3 2 4 2 2 2 4 3 2 2 4 3 5 4 2 2 2 3 4 2 2 2 0 2 2 1 1 4 2 2 5 3 2 1 1 0 2 2 5 1 2 1 2 2 5 4 2 0 2 2 3 3 1 2 2 1 8 4 3 2 2 2 2 4 4 1 2 1 2 1 3 4 1 2 1 3 4 3 1 4 3 1 3 2 2 1 2 5 4 2 2 1 1 3 3 2 3 2 2 1 2 2 1 0 3 3 5 2 2 4 1 3 2 3 2 1 2 1 1 4 3 3 2 4 2 2 2 2 1 4 3 1 4 1 2 3 0 2 5 0 3 2 4 2 3 3 3 2 4 2 2 6 4 3 2 4 2 1 1 1 5 1 4 1 3 3 3 4 1 1 3 2 1 3 3 4 3 3 0 1 5 1 2 1 0 3 2 1 4 2 1 2 2 2 3 3 4 2 1 2 4 3 2 1 2 3 2 2 1 3 4 1 0 2 3 5 3 2 2 1 2 1 3 4 3 3 2 5 1 2 4 1 1 3 2 4 3 1 1 5 3 3 1 4 0 3 2 1 3 4 3 3 2 3 4 5 3 2 2 2 4 1 2 3 3 4 4 5 2 4 2 4 3 2 3 5 2 1 2 6 3 2 1 3 1 1 3 3 4 2 2 0 3 3 0 3 3\n"
     ]
    }
   ],
   "source": [
    "# now I will define list of length frag_list contain zeros for the 4 types of DNA nucleotides\n",
    "A_list = [0] * frag_length\n",
    "C_list = [0] * frag_length\n",
    "G_list = [0] * frag_length\n",
    "T_list = [0] * frag_length\n",
    "# now this code will produce the profile matrix of the DNA fragments collection\n",
    "for fragment in range(num_of_fragments):\n",
    "    for nuc in range(frag_length):\n",
    "        if list_of_fragments[fragment][nuc] == \"A\":\n",
    "            A_list[nuc] += 1\n",
    "        elif list_of_fragments[fragment][nuc] == \"C\":\n",
    "            C_list[nuc] += 1\n",
    "        elif list_of_fragments[fragment][nuc] == \"G\":\n",
    "            G_list[nuc] += 1\n",
    "        elif list_of_fragments[fragment][nuc] == \"T\":\n",
    "            T_list[nuc] += 1\n",
    "# next this code will produce the consensus DNA string\n",
    "Consensus = \"\"\n",
    "for nuc in range(frag_length):\n",
    "    max_nuc = max(A_list[nuc], C_list[nuc], G_list[nuc], T_list[nuc])\n",
    "    if A_list[nuc] == max_nuc:\n",
    "        Consensus += \"A\"\n",
    "    elif C_list[nuc] == max_nuc:\n",
    "        Consensus += \"C\"\n",
    "    elif G_list[nuc] == max_nuc:\n",
    "        Consensus += \"G\"\n",
    "    elif T_list[nuc] == max_nuc:\n",
    "        Consensus += \"T\"\n",
    "# next I will print the results: Consensus DNA sequence and profile matrix\n",
    "print(\"The consensus DNA sequence is:\\n\", Consensus, sep=\"\")\n",
    "print(\"\\nThe profile matrix for this collection of DNA fragments is:\")\n",
    "print(\"A:\", *A_list)\n",
    "print(\"C:\", *C_list)\n",
    "print(\"G:\", *G_list)\n",
    "print(\"T:\", *T_list)"
   ]
  },
  {
   "cell_type": "markdown",
   "id": "b1f956c6-041b-4532-bb63-27770faa2b69",
   "metadata": {},
   "source": [
    "_**Coded by:**_ **Hasan Daaboul**  \n",
    "_**Email:**_ hasandaaboul4@gmail.com"
   ]
  }
 ],
 "metadata": {
  "kernelspec": {
   "display_name": "Python 3 (ipykernel)",
   "language": "python",
   "name": "python3"
  },
  "language_info": {
   "codemirror_mode": {
    "name": "ipython",
    "version": 3
   },
   "file_extension": ".py",
   "mimetype": "text/x-python",
   "name": "python",
   "nbconvert_exporter": "python",
   "pygments_lexer": "ipython3",
   "version": "3.11.5"
  }
 },
 "nbformat": 4,
 "nbformat_minor": 5
}
